{
  "cells": [
    {
      "cell_type": "markdown",
      "metadata": {
        "id": "qCraphrYvLwO"
      },
      "source": [
        "**GROUP 28**\n",
        "\n",
        "LAKSH JAIN - 23110185\n",
        "\n",
        "TANISH YELGOE - 23110328"
      ]
    },
    {
      "cell_type": "code",
      "execution_count": 79,
      "metadata": {
        "colab": {
          "base_uri": "https://localhost:8080/"
        },
        "id": "fk1ecjAFvHaY",
        "outputId": "f6dce6dd-17f6-40c7-86bd-6e0f79352186"
      },
      "outputs": [
        {
          "name": "stdout",
          "output_type": "stream",
          "text": [
            "--2025-03-15 09:24:58--  https://raw.githubusercontent.com/clairett/pytorch-sentiment-classification/master/data/SST2/train.tsv\n",
            "Resolving raw.githubusercontent.com (raw.githubusercontent.com)... 185.199.111.133, 185.199.110.133, 185.199.109.133, ...\n",
            "Connecting to raw.githubusercontent.com (raw.githubusercontent.com)|185.199.111.133|:443... connected.\n",
            "HTTP request sent, awaiting response... 200 OK\n",
            "Length: 720259 (703K) [text/plain]\n",
            "Saving to: ‘train.tsv.2’\n",
            "\n",
            "train.tsv.2         100%[===================>] 703.38K  --.-KB/s    in 0.007s  \n",
            "\n",
            "2025-03-15 09:24:58 (92.5 MB/s) - ‘train.tsv.2’ saved [720259/720259]\n",
            "\n"
          ]
        },
        {
          "name": "stdout",
          "output_type": "stream",
          "text": [
            "--2025-03-15 09:24:59--  https://raw.githubusercontent.com/clairett/pytorch-sentiment-classification/master/data/SST2/test.tsv\n",
            "Resolving raw.githubusercontent.com (raw.githubusercontent.com)... 185.199.111.133, 185.199.110.133, 185.199.109.133, ...\n",
            "Connecting to raw.githubusercontent.com (raw.githubusercontent.com)|185.199.111.133|:443... connected.\n",
            "HTTP request sent, awaiting response... 200 OK\n",
            "Length: 188749 (184K) [text/plain]\n",
            "Saving to: ‘test.tsv.2’\n",
            "\n",
            "test.tsv.2          100%[===================>] 184.33K  --.-KB/s    in 0.003s  \n",
            "\n",
            "2025-03-15 09:24:59 (56.8 MB/s) - ‘test.tsv.2’ saved [188749/188749]\n",
            "\n"
          ]
        }
      ],
      "source": [
        "!wget https://raw.githubusercontent.com/clairett/pytorch-sentiment-classification/master/data/SST2/train.tsv\n",
        "!wget https://raw.githubusercontent.com/clairett/pytorch-sentiment-classification/master/data/SST2/test.tsv"
      ]
    },
    {
      "cell_type": "code",
      "execution_count": 111,
      "metadata": {},
      "outputs": [
        {
          "name": "stdout",
          "output_type": "stream",
          "text": [
            "Requirement already satisfied: tensorboard in /system/conda/miniconda3/envs/cloudspace/lib/python3.10/site-packages (2.15.1)\n",
            "Requirement already satisfied: absl-py>=0.4 in /system/conda/miniconda3/envs/cloudspace/lib/python3.10/site-packages (from tensorboard) (2.1.0)\n",
            "Requirement already satisfied: grpcio>=1.48.2 in /system/conda/miniconda3/envs/cloudspace/lib/python3.10/site-packages (from tensorboard) (1.66.1)\n",
            "Requirement already satisfied: google-auth<3,>=1.6.3 in /system/conda/miniconda3/envs/cloudspace/lib/python3.10/site-packages (from tensorboard) (2.34.0)\n",
            "Requirement already satisfied: google-auth-oauthlib<2,>=0.5 in /system/conda/miniconda3/envs/cloudspace/lib/python3.10/site-packages (from tensorboard) (1.2.1)\n",
            "Requirement already satisfied: markdown>=2.6.8 in /system/conda/miniconda3/envs/cloudspace/lib/python3.10/site-packages (from tensorboard) (3.7)\n",
            "Requirement already satisfied: numpy>=1.12.0 in /system/conda/miniconda3/envs/cloudspace/lib/python3.10/site-packages (from tensorboard) (1.26.4)\n",
            "Requirement already satisfied: protobuf<4.24,>=3.19.6 in /system/conda/miniconda3/envs/cloudspace/lib/python3.10/site-packages (from tensorboard) (4.23.4)\n",
            "Requirement already satisfied: requests<3,>=2.21.0 in /system/conda/miniconda3/envs/cloudspace/lib/python3.10/site-packages (from tensorboard) (2.32.3)\n",
            "Requirement already satisfied: setuptools>=41.0.0 in /system/conda/miniconda3/envs/cloudspace/lib/python3.10/site-packages (from tensorboard) (72.1.0)\n",
            "Requirement already satisfied: six>1.9 in /system/conda/miniconda3/envs/cloudspace/lib/python3.10/site-packages (from tensorboard) (1.16.0)\n",
            "Requirement already satisfied: tensorboard-data-server<0.8.0,>=0.7.0 in /system/conda/miniconda3/envs/cloudspace/lib/python3.10/site-packages (from tensorboard) (0.7.2)\n",
            "Requirement already satisfied: werkzeug>=1.0.1 in /system/conda/miniconda3/envs/cloudspace/lib/python3.10/site-packages (from tensorboard) (3.0.4)\n",
            "Requirement already satisfied: cachetools<6.0,>=2.0.0 in /system/conda/miniconda3/envs/cloudspace/lib/python3.10/site-packages (from google-auth<3,>=1.6.3->tensorboard) (5.5.0)\n",
            "Requirement already satisfied: pyasn1-modules>=0.2.1 in /system/conda/miniconda3/envs/cloudspace/lib/python3.10/site-packages (from google-auth<3,>=1.6.3->tensorboard) (0.4.0)\n",
            "Requirement already satisfied: rsa<5,>=3.1.4 in /system/conda/miniconda3/envs/cloudspace/lib/python3.10/site-packages (from google-auth<3,>=1.6.3->tensorboard) (4.9)\n",
            "Requirement already satisfied: requests-oauthlib>=0.7.0 in /system/conda/miniconda3/envs/cloudspace/lib/python3.10/site-packages (from google-auth-oauthlib<2,>=0.5->tensorboard) (2.0.0)\n",
            "Requirement already satisfied: charset-normalizer<4,>=2 in /system/conda/miniconda3/envs/cloudspace/lib/python3.10/site-packages (from requests<3,>=2.21.0->tensorboard) (3.3.2)\n",
            "Requirement already satisfied: idna<4,>=2.5 in /system/conda/miniconda3/envs/cloudspace/lib/python3.10/site-packages (from requests<3,>=2.21.0->tensorboard) (3.8)\n",
            "Requirement already satisfied: urllib3<3,>=1.21.1 in /system/conda/miniconda3/envs/cloudspace/lib/python3.10/site-packages (from requests<3,>=2.21.0->tensorboard) (2.2.2)\n",
            "Requirement already satisfied: certifi>=2017.4.17 in /system/conda/miniconda3/envs/cloudspace/lib/python3.10/site-packages (from requests<3,>=2.21.0->tensorboard) (2024.8.30)\n",
            "Requirement already satisfied: MarkupSafe>=2.1.1 in /system/conda/miniconda3/envs/cloudspace/lib/python3.10/site-packages (from werkzeug>=1.0.1->tensorboard) (2.1.5)\n",
            "Requirement already satisfied: pyasn1<0.7.0,>=0.4.6 in /system/conda/miniconda3/envs/cloudspace/lib/python3.10/site-packages (from pyasn1-modules>=0.2.1->google-auth<3,>=1.6.3->tensorboard) (0.6.0)\n",
            "Requirement already satisfied: oauthlib>=3.0.0 in /system/conda/miniconda3/envs/cloudspace/lib/python3.10/site-packages (from requests-oauthlib>=0.7.0->google-auth-oauthlib<2,>=0.5->tensorboard) (3.2.2)\n",
            "Note: you may need to restart the kernel to use updated packages.\n"
          ]
        }
      ],
      "source": [
        "%pip install tensorboard"
      ]
    },
    {
      "cell_type": "code",
      "execution_count": null,
      "metadata": {
        "id": "f9sfttZGxWDp"
      },
      "outputs": [],
      "source": [
        "import numpy as np\n",
        "import pandas as pd\n",
        "import torch\n",
        "from torch import nn\n",
        "from sklearn.model_selection import train_test_split\n",
        "from sklearn.feature_extraction.text import CountVectorizer\n",
        "from sklearn.metrics import accuracy_score\n",
        "from torch.utils.tensorboard import SummaryWriter\n"
      ]
    },
    {
      "cell_type": "code",
      "execution_count": 113,
      "metadata": {
        "id": "XKISR0iUyAPp"
      },
      "outputs": [],
      "source": [
        "#Load the dataset into train,test and validation\n",
        "train = pd.read_csv('train.tsv', sep='\\t',header=None)\n",
        "test = pd.read_csv('test.tsv', sep='\\t',header=None)"
      ]
    },
    {
      "cell_type": "code",
      "execution_count": 114,
      "metadata": {
        "colab": {
          "base_uri": "https://localhost:8080/",
          "height": 423
        },
        "id": "pjyB6nQfyRJV",
        "outputId": "e2af1ff2-0c6a-4bd3-8b5b-88b50f97cd37"
      },
      "outputs": [
        {
          "data": {
            "text/html": [
              "<div>\n",
              "<style scoped>\n",
              "    .dataframe tbody tr th:only-of-type {\n",
              "        vertical-align: middle;\n",
              "    }\n",
              "\n",
              "    .dataframe tbody tr th {\n",
              "        vertical-align: top;\n",
              "    }\n",
              "\n",
              "    .dataframe thead th {\n",
              "        text-align: right;\n",
              "    }\n",
              "</style>\n",
              "<table border=\"1\" class=\"dataframe\">\n",
              "  <thead>\n",
              "    <tr style=\"text-align: right;\">\n",
              "      <th></th>\n",
              "      <th>0</th>\n",
              "      <th>1</th>\n",
              "    </tr>\n",
              "  </thead>\n",
              "  <tbody>\n",
              "    <tr>\n",
              "      <th>0</th>\n",
              "      <td>a stirring , funny and finally transporting re...</td>\n",
              "      <td>1</td>\n",
              "    </tr>\n",
              "    <tr>\n",
              "      <th>1</th>\n",
              "      <td>apparently reassembled from the cutting room f...</td>\n",
              "      <td>0</td>\n",
              "    </tr>\n",
              "    <tr>\n",
              "      <th>2</th>\n",
              "      <td>they presume their audience wo n't sit still f...</td>\n",
              "      <td>0</td>\n",
              "    </tr>\n",
              "    <tr>\n",
              "      <th>3</th>\n",
              "      <td>this is a visually stunning rumination on love...</td>\n",
              "      <td>1</td>\n",
              "    </tr>\n",
              "    <tr>\n",
              "      <th>4</th>\n",
              "      <td>jonathan parker 's bartleby should have been t...</td>\n",
              "      <td>1</td>\n",
              "    </tr>\n",
              "    <tr>\n",
              "      <th>...</th>\n",
              "      <td>...</td>\n",
              "      <td>...</td>\n",
              "    </tr>\n",
              "    <tr>\n",
              "      <th>6915</th>\n",
              "      <td>painful , horrifying and oppressively tragic ,...</td>\n",
              "      <td>1</td>\n",
              "    </tr>\n",
              "    <tr>\n",
              "      <th>6916</th>\n",
              "      <td>take care is nicely performed by a quintet of ...</td>\n",
              "      <td>0</td>\n",
              "    </tr>\n",
              "    <tr>\n",
              "      <th>6917</th>\n",
              "      <td>the script covers huge , heavy topics in a bla...</td>\n",
              "      <td>0</td>\n",
              "    </tr>\n",
              "    <tr>\n",
              "      <th>6918</th>\n",
              "      <td>a seriously bad film with seriously warped log...</td>\n",
              "      <td>0</td>\n",
              "    </tr>\n",
              "    <tr>\n",
              "      <th>6919</th>\n",
              "      <td>a deliciously nonsensical comedy about a city ...</td>\n",
              "      <td>1</td>\n",
              "    </tr>\n",
              "  </tbody>\n",
              "</table>\n",
              "<p>6920 rows × 2 columns</p>\n",
              "</div>"
            ],
            "text/plain": [
              "                                                      0  1\n",
              "0     a stirring , funny and finally transporting re...  1\n",
              "1     apparently reassembled from the cutting room f...  0\n",
              "2     they presume their audience wo n't sit still f...  0\n",
              "3     this is a visually stunning rumination on love...  1\n",
              "4     jonathan parker 's bartleby should have been t...  1\n",
              "...                                                 ... ..\n",
              "6915  painful , horrifying and oppressively tragic ,...  1\n",
              "6916  take care is nicely performed by a quintet of ...  0\n",
              "6917  the script covers huge , heavy topics in a bla...  0\n",
              "6918  a seriously bad film with seriously warped log...  0\n",
              "6919  a deliciously nonsensical comedy about a city ...  1\n",
              "\n",
              "[6920 rows x 2 columns]"
            ]
          },
          "execution_count": 114,
          "metadata": {},
          "output_type": "execute_result"
        }
      ],
      "source": [
        "train"
      ]
    },
    {
      "cell_type": "code",
      "execution_count": 115,
      "metadata": {
        "id": "cC9mEf8R2Xxq"
      },
      "outputs": [],
      "source": [
        "#Divide the train set into train and validation set\n",
        "train, validation = train_test_split(train, test_size=0.2, random_state=42)"
      ]
    },
    {
      "cell_type": "code",
      "execution_count": 116,
      "metadata": {
        "colab": {
          "base_uri": "https://localhost:8080/",
          "height": 423
        },
        "id": "xJfpTBAx23ZC",
        "outputId": "ae0bf486-dbc0-420a-8b07-94e49ce63764"
      },
      "outputs": [
        {
          "data": {
            "text/html": [
              "<div>\n",
              "<style scoped>\n",
              "    .dataframe tbody tr th:only-of-type {\n",
              "        vertical-align: middle;\n",
              "    }\n",
              "\n",
              "    .dataframe tbody tr th {\n",
              "        vertical-align: top;\n",
              "    }\n",
              "\n",
              "    .dataframe thead th {\n",
              "        text-align: right;\n",
              "    }\n",
              "</style>\n",
              "<table border=\"1\" class=\"dataframe\">\n",
              "  <thead>\n",
              "    <tr style=\"text-align: right;\">\n",
              "      <th></th>\n",
              "      <th>0</th>\n",
              "      <th>1</th>\n",
              "    </tr>\n",
              "  </thead>\n",
              "  <tbody>\n",
              "    <tr>\n",
              "      <th>4457</th>\n",
              "      <td>graphic sex may be what 's attracting audience...</td>\n",
              "      <td>1</td>\n",
              "    </tr>\n",
              "    <tr>\n",
              "      <th>2471</th>\n",
              "      <td>perhaps the grossest movie ever made</td>\n",
              "      <td>0</td>\n",
              "    </tr>\n",
              "    <tr>\n",
              "      <th>26</th>\n",
              "      <td>the film is moody , oozing , chilling and hear...</td>\n",
              "      <td>1</td>\n",
              "    </tr>\n",
              "    <tr>\n",
              "      <th>4828</th>\n",
              "      <td>watching the chemistry between freeman and jud...</td>\n",
              "      <td>1</td>\n",
              "    </tr>\n",
              "    <tr>\n",
              "      <th>63</th>\n",
              "      <td>the wonderfully lush morvern callar is pure pu...</td>\n",
              "      <td>1</td>\n",
              "    </tr>\n",
              "    <tr>\n",
              "      <th>...</th>\n",
              "      <td>...</td>\n",
              "      <td>...</td>\n",
              "    </tr>\n",
              "    <tr>\n",
              "      <th>3772</th>\n",
              "      <td>a summer entertainment adults can see without ...</td>\n",
              "      <td>1</td>\n",
              "    </tr>\n",
              "    <tr>\n",
              "      <th>5191</th>\n",
              "      <td>it 's a cool event for the whole family</td>\n",
              "      <td>1</td>\n",
              "    </tr>\n",
              "    <tr>\n",
              "      <th>5226</th>\n",
              "      <td>one of the worst films of 2002</td>\n",
              "      <td>0</td>\n",
              "    </tr>\n",
              "    <tr>\n",
              "      <th>5390</th>\n",
              "      <td>the trashy teen sleaze equivalent of showgirls</td>\n",
              "      <td>0</td>\n",
              "    </tr>\n",
              "    <tr>\n",
              "      <th>860</th>\n",
              "      <td>the all french cast is marveilleux</td>\n",
              "      <td>1</td>\n",
              "    </tr>\n",
              "  </tbody>\n",
              "</table>\n",
              "<p>5536 rows × 2 columns</p>\n",
              "</div>"
            ],
            "text/plain": [
              "                                                      0  1\n",
              "4457  graphic sex may be what 's attracting audience...  1\n",
              "2471               perhaps the grossest movie ever made  0\n",
              "26    the film is moody , oozing , chilling and hear...  1\n",
              "4828  watching the chemistry between freeman and jud...  1\n",
              "63    the wonderfully lush morvern callar is pure pu...  1\n",
              "...                                                 ... ..\n",
              "3772  a summer entertainment adults can see without ...  1\n",
              "5191            it 's a cool event for the whole family  1\n",
              "5226                     one of the worst films of 2002  0\n",
              "5390     the trashy teen sleaze equivalent of showgirls  0\n",
              "860                  the all french cast is marveilleux  1\n",
              "\n",
              "[5536 rows x 2 columns]"
            ]
          },
          "execution_count": 116,
          "metadata": {},
          "output_type": "execute_result"
        }
      ],
      "source": [
        "train"
      ]
    },
    {
      "cell_type": "code",
      "execution_count": 117,
      "metadata": {
        "colab": {
          "base_uri": "https://localhost:8080/"
        },
        "id": "35gM3efh26AW",
        "outputId": "21f4d553-01ea-463d-83cb-edee130f7b4a"
      },
      "outputs": [
        {
          "name": "stdout",
          "output_type": "stream",
          "text": [
            "Sequential(\n",
            "  (0): Linear(in_features=10000, out_features=512, bias=True)\n",
            "  (1): ReLU()\n",
            "  (2): Dropout(p=0.3, inplace=False)\n",
            "  (3): Linear(in_features=512, out_features=256, bias=True)\n",
            "  (4): ReLU()\n",
            "  (5): Dropout(p=0.3, inplace=False)\n",
            "  (6): Linear(in_features=256, out_features=128, bias=True)\n",
            "  (7): ReLU()\n",
            "  (8): Dropout(p=0.3, inplace=False)\n",
            "  (9): Linear(in_features=128, out_features=64, bias=True)\n",
            "  (10): ReLU()\n",
            "  (11): Dropout(p=0.3, inplace=False)\n",
            "  (12): Linear(in_features=64, out_features=2, bias=True)\n",
            ")\n"
          ]
        }
      ],
      "source": [
        "mlp1 = nn.Sequential(\n",
        "    nn.Linear(10000, 512),\n",
        "    nn.ReLU(),\n",
        "    nn.Dropout(0.3),\n",
        "\n",
        "    nn.Linear(512, 256),\n",
        "    nn.ReLU(),\n",
        "    nn.Dropout(0.3),\n",
        "\n",
        "    nn.Linear(256, 128),\n",
        "    nn.ReLU(),\n",
        "    nn.Dropout(0.3),\n",
        "\n",
        "    nn.Linear(128, 64),\n",
        "    nn.ReLU(),\n",
        "    nn.Dropout(0.3),\n",
        "\n",
        "    nn.Linear(64, 2)  # No activation for final layer (assumes logits for classification)\n",
        ")\n",
        "\n",
        "print(mlp1)"
      ]
    },
    {
      "cell_type": "code",
      "execution_count": 118,
      "metadata": {
        "colab": {
          "base_uri": "https://localhost:8080/"
        },
        "id": "xEfDsQU73xMi",
        "outputId": "8df0c9ba-74f7-42c3-8d16-5b070f1dff51"
      },
      "outputs": [
        {
          "name": "stdout",
          "output_type": "stream",
          "text": [
            "Total trainable parameters: 5293122\n"
          ]
        }
      ],
      "source": [
        "def count_parameters(model):\n",
        "    return sum(p.numel() for p in model.parameters() if p.requires_grad)\n",
        "\n",
        "# Print the number of trainable parameters\n",
        "print(f\"Total trainable parameters: {count_parameters(mlp1)}\")\n"
      ]
    },
    {
      "cell_type": "code",
      "execution_count": 119,
      "metadata": {
        "id": "L5whkqFCLWvM"
      },
      "outputs": [],
      "source": [
        "mlp2 = nn.Sequential(\n",
        "    nn.Linear(768, 512),nn.ReLU(),nn.Dropout(0.3), # Model input dimension is 768 to match embedings dimension\n",
        "    nn.Linear(512, 256),nn.ReLU(),nn.Dropout(0.3),\n",
        "    nn.Linear(256, 128),nn.ReLU(),nn.Dropout(0.3),\n",
        "    nn.Linear(128, 64),nn.ReLU(),nn.Dropout(0.3),\n",
        "    nn.Linear(64, 2)  # No activation for final layer (assumes logits for classification)\n",
        ")\n"
      ]
    },
    {
      "cell_type": "code",
      "execution_count": 120,
      "metadata": {
        "id": "mqH48TyE4OrB"
      },
      "outputs": [],
      "source": [
        "train_corpus = train[0].tolist()\n",
        "train_labels = train[1].tolist()\n",
        "validation_corpus = validation[0].tolist()\n",
        "validation_labels = validation[1].tolist()"
      ]
    },
    {
      "cell_type": "markdown",
      "metadata": {
        "id": "OuALRaaSLLvO"
      },
      "source": [
        "**IMPLEMENTATION 1: BAG OF WORDS**"
      ]
    },
    {
      "cell_type": "code",
      "execution_count": 121,
      "metadata": {
        "colab": {
          "base_uri": "https://localhost:8080/"
        },
        "id": "oc-7oMxRKH4Z",
        "outputId": "ce24c512-10f0-4263-ee8e-86197d98f3f6"
      },
      "outputs": [
        {
          "data": {
            "text/plain": [
              "array([[0, 0, 0, ..., 0, 0, 0],\n",
              "       [0, 0, 0, ..., 0, 0, 0],\n",
              "       [0, 0, 0, ..., 0, 0, 0],\n",
              "       ...,\n",
              "       [0, 0, 0, ..., 0, 0, 0],\n",
              "       [0, 0, 0, ..., 0, 0, 0],\n",
              "       [0, 0, 0, ..., 0, 0, 0]])"
            ]
          },
          "execution_count": 121,
          "metadata": {},
          "output_type": "execute_result"
        }
      ],
      "source": [
        "vectorizer = CountVectorizer(max_features=10000)\n",
        "X_train = vectorizer.fit_transform(train_corpus)\n",
        "X_val = vectorizer.transform(validation_corpus)\n",
        "X_train.toarray()"
      ]
    },
    {
      "cell_type": "code",
      "execution_count": 122,
      "metadata": {
        "colab": {
          "base_uri": "https://localhost:8080/"
        },
        "id": "Q2CEZiHULH6U",
        "outputId": "b9fb75cb-1ff2-41e2-e0c7-514238557afa"
      },
      "outputs": [
        {
          "data": {
            "text/plain": [
              "array(['000', '10', '100', ..., 'zone', 'zoning', 'zoom'], dtype=object)"
            ]
          },
          "execution_count": 122,
          "metadata": {},
          "output_type": "execute_result"
        }
      ],
      "source": [
        "vectorizer.get_feature_names_out()"
      ]
    },
    {
      "cell_type": "code",
      "execution_count": 123,
      "metadata": {
        "colab": {
          "base_uri": "https://localhost:8080/"
        },
        "id": "4bF1EOPJKjA4",
        "outputId": "8f01c3ff-602e-42f5-e5e6-d5ce3e95a1bb"
      },
      "outputs": [
        {
          "data": {
            "text/plain": [
              "10000"
            ]
          },
          "execution_count": 123,
          "metadata": {},
          "output_type": "execute_result"
        }
      ],
      "source": [
        "vectorizer.get_feature_names_out().size"
      ]
    },
    {
      "cell_type": "code",
      "execution_count": 124,
      "metadata": {},
      "outputs": [],
      "source": [
        "writer = SummaryWriter(log_dir=\"runs/bow\")"
      ]
    },
    {
      "cell_type": "code",
      "execution_count": null,
      "metadata": {
        "colab": {
          "base_uri": "https://localhost:8080/"
        },
        "id": "MkFH0MMFZXNF",
        "outputId": "2b00d363-d006-4b48-eeb2-b71cc5162697"
      },
      "outputs": [
        {
          "name": "stdout",
          "output_type": "stream",
          "text": [
            "Epoch 1/10\n",
            "Train Loss: 0.6953110098838806 Train Accuracy : 0.4754335260115607\n",
            "Validation Loss: 0.6936376690864563 Validation Accuracy : 0.4848265895953757\n",
            "Best model updated.\n",
            "Epoch 2/10\n",
            "Train Loss: 0.6939408183097839 Train Accuracy : 0.4779624277456647\n",
            "Validation Loss: 0.6926941275596619 Validation Accuracy : 0.4848265895953757\n",
            "Epoch 3/10\n",
            "Train Loss: 0.6924598217010498 Train Accuracy : 0.5204118497109826\n",
            "Validation Loss: 0.6915570497512817 Validation Accuracy : 0.6864161849710982\n",
            "Best model updated.\n",
            "Epoch 4/10\n",
            "Train Loss: 0.6906898617744446 Train Accuracy : 0.5980852601156069\n",
            "Validation Loss: 0.6896559000015259 Validation Accuracy : 0.6719653179190751\n",
            "Epoch 5/10\n",
            "Train Loss: 0.6877871751785278 Train Accuracy : 0.6661849710982659\n",
            "Validation Loss: 0.686825156211853 Validation Accuracy : 0.690028901734104\n",
            "Best model updated.\n",
            "Epoch 6/10\n",
            "Train Loss: 0.683470606803894 Train Accuracy : 0.740606936416185\n",
            "Validation Loss: 0.6829961538314819 Validation Accuracy : 0.7210982658959537\n",
            "Best model updated.\n",
            "Epoch 7/10\n",
            "Train Loss: 0.6777504682540894 Train Accuracy : 0.7978684971098265\n",
            "Validation Loss: 0.6777751445770264 Validation Accuracy : 0.7485549132947977\n",
            "Best model updated.\n",
            "Epoch 8/10\n",
            "Train Loss: 0.6696668267250061 Train Accuracy : 0.8470014450867052\n",
            "Validation Loss: 0.6707097291946411 Validation Accuracy : 0.7658959537572254\n",
            "Best model updated.\n",
            "Epoch 9/10\n",
            "Train Loss: 0.6580325961112976 Train Accuracy : 0.8820447976878613\n",
            "Validation Loss: 0.6617899537086487 Validation Accuracy : 0.7687861271676301\n",
            "Best model updated.\n",
            "Epoch 10/10\n",
            "Train Loss: 0.6427776217460632 Train Accuracy : 0.9058887283236994\n",
            "Validation Loss: 0.6506825089454651 Validation Accuracy : 0.7608381502890174\n"
          ]
        }
      ],
      "source": [
        "# Training Loop\n",
        "\n",
        "loss_func = nn.CrossEntropyLoss()\n",
        "optimizer = torch.optim.Adam(mlp1.parameters(), lr=0.001)\n",
        "n_epochs = 10\n",
        "train_loss = []\n",
        "train_acc = []\n",
        "val_loss = []\n",
        "val_acc = []\n",
        "\n",
        "best_val_acc = 0.0  # Track the best validation accuracy\n",
        "best_model_path = \"best_model_bow.pth\"\n",
        "\n",
        "for epoch in range(n_epochs):\n",
        "    mlp1.train()\n",
        "    optimizer.zero_grad()\n",
        "    logits = mlp1(torch.tensor(X_train.toarray(), dtype=torch.float32))\n",
        "    loss = loss_func(logits, torch.tensor(train_labels, dtype=torch.long))\n",
        "    loss.backward()\n",
        "    optimizer.step()\n",
        "\n",
        "    # Tracking training loss\n",
        "    train_loss.append(loss.item())\n",
        "    train_accuracy = accuracy_score(train_labels, torch.argmax(logits, dim=1))\n",
        "    train_acc.append(train_accuracy)\n",
        "    print(f'Epoch {epoch+1}/{n_epochs}')\n",
        "    print(f'Train Loss: {loss.item()} Train Accuracy : {train_accuracy}')\n",
        "\n",
        "    # Tracking validation loss\n",
        "    mlp1.eval()\n",
        "    with torch.no_grad():\n",
        "        logits_val = mlp1(torch.tensor(X_val.toarray(), dtype=torch.float32))\n",
        "        loss_val = loss_func(logits_val, torch.tensor(validation_labels, dtype=torch.long))\n",
        "\n",
        "    val_loss.append(loss_val.item())\n",
        "    val_accuracy = accuracy_score(validation_labels, torch.argmax(logits_val, dim=1))\n",
        "    val_acc.append(val_accuracy)\n",
        "    print(f'Validation Loss: {loss_val.item()} Validation Accuracy : {val_accuracy}')\n",
        "    \n",
        "    # Log to TensorBoard\n",
        "    writer.add_scalar(\"Loss/Train\", loss.item(), epoch)\n",
        "    writer.add_scalar(\"Loss/Validation\", loss_val.item(), epoch)\n",
        "    writer.add_scalar(\"Accuracy/Train\", train_accuracy, epoch)\n",
        "    writer.add_scalar(\"Accuracy/Validation\", val_accuracy, epoch)\n",
        "\n",
        "    # Save the best model based on validation accuracy\n",
        "    if val_accuracy > best_val_acc:\n",
        "        best_val_acc = val_accuracy\n",
        "        torch.save(mlp1.state_dict(), best_model_path)\n",
        "        print(\"Best model updated.\")\n",
        "\n",
        "writer.close()\n"
      ]
    },
    {
      "cell_type": "code",
      "execution_count": 126,
      "metadata": {
        "colab": {
          "base_uri": "https://localhost:8080/",
          "height": 1000
        },
        "id": "mm82Bx2xScAQ",
        "outputId": "3ca872ac-4f77-4365-80f6-aaeedd5b30f4"
      },
      "outputs": [
        {
          "name": "stdout",
          "output_type": "stream",
          "text": [
            "FINAL EVALUATION METRICS FOR BOW\n",
            "Train Loss: 0.6427776217460632 | Train Accuracy : 0.9058887283236994\n",
            "Validation Loss: 0.6506825089454651 | Validation Accuracy : 0.7608381502890174\n",
            "\n"
          ]
        },
        {
          "data": {
            "image/png": "[encoded data removed]",
            "text/plain": [
              "<Figure size 640x480 with 1 Axes>"
            ]
          },
          "metadata": {},
          "output_type": "display_data"
        },
        {
          "data": {
            "image/png": "[encoded data removed]",
            "text/plain": [
              "<Figure size 640x480 with 1 Axes>"
            ]
          },
          "metadata": {},
          "output_type": "display_data"
        },
        {
          "name": "stdout",
          "output_type": "stream",
          "text": [
            "\n",
            "CONFUSION MATRIX FOR VALIDATION DATASET\n"
          ]
        },
        {
          "data": {
            "image/png": "[encoded data removed]",
            "text/plain": [
              "<Figure size 600x500 with 2 Axes>"
            ]
          },
          "metadata": {},
          "output_type": "display_data"
        }
      ],
      "source": [
        "#Final Evaluation Metrics\n",
        "mlp1.eval()\n",
        "print(\"FINAL EVALUATION METRICS FOR BOW\")\n",
        "print(f'Train Loss: {train_loss[-1]} | Train Accuracy : {train_acc[-1]}')\n",
        "print(f'Validation Loss: {val_loss[-1]} | Validation Accuracy : {val_acc[-1]}')\n",
        "print()\n",
        "\n",
        "#Plot the accuracy and validation curves\n",
        "import matplotlib.pyplot as plt\n",
        "plt.plot(train_acc, label='Training Accuracy', color = 'r')\n",
        "plt.plot(val_acc, label='Validation Accuracy', color = 'b')\n",
        "plt.xlabel('Epochs')\n",
        "plt.ylabel('Accuracy')\n",
        "plt.title(\"Accuracy Curve\")\n",
        "plt.legend()\n",
        "plt.show()\n",
        "\n",
        "plt.plot(train_loss, label='Training Loss', color = 'r')\n",
        "plt.plot(val_loss, label='Validation Loss', color = 'b')\n",
        "plt.xlabel('Epochs')\n",
        "plt.ylabel('Loss')\n",
        "plt.title(\"Loss Curve\")\n",
        "plt.legend()\n",
        "plt.show()\n",
        "\n",
        "#Plot the confusion matrix\n",
        "from sklearn.metrics import confusion_matrix\n",
        "import seaborn as sns\n",
        "\n",
        "print(\"\\nCONFUSION MATRIX FOR VALIDATION DATASET\")\n",
        "logits_val = mlp1(torch.tensor(X_val.toarray(), dtype=torch.float32))\n",
        "confusion_mat = confusion_matrix(validation_labels, torch.argmax(logits_val, dim=1))\n",
        "# print(f'Confusion Matrix: \\n{confusion_mat}')\n",
        "class_labels = ['0' ,'1']\n",
        "plt.figure(figsize=(6, 5))\n",
        "sns.heatmap(confusion_mat, annot=True, fmt='d', cmap='Blues',\n",
        "            xticklabels=class_labels, yticklabels=class_labels)\n",
        "\n",
        "plt.xlabel('Predicted Labels')\n",
        "plt.ylabel('True Labels')\n",
        "plt.title('Confusion Matrix')\n",
        "plt.show()"
      ]
    },
    {
      "cell_type": "markdown",
      "metadata": {
        "id": "BvnRt7dIb1rf"
      },
      "source": [
        "**IMPLEMENTATION 2: TRAINING MODEL USING EMBEDDINGS**"
      ]
    },
    {
      "cell_type": "code",
      "execution_count": 127,
      "metadata": {},
      "outputs": [
        {
          "name": "stdout",
          "output_type": "stream",
          "text": [
            "Requirement already satisfied: transformers in /system/conda/miniconda3/envs/cloudspace/lib/python3.10/site-packages (4.49.0)\n",
            "Requirement already satisfied: filelock in /system/conda/miniconda3/envs/cloudspace/lib/python3.10/site-packages (from transformers) (3.15.4)\n",
            "Requirement already satisfied: huggingface-hub<1.0,>=0.26.0 in /system/conda/miniconda3/envs/cloudspace/lib/python3.10/site-packages (from transformers) (0.26.1)\n",
            "Requirement already satisfied: numpy>=1.17 in /system/conda/miniconda3/envs/cloudspace/lib/python3.10/site-packages (from transformers) (1.26.4)\n",
            "Requirement already satisfied: packaging>=20.0 in /system/conda/miniconda3/envs/cloudspace/lib/python3.10/site-packages (from transformers) (24.1)\n",
            "Requirement already satisfied: pyyaml>=5.1 in /system/conda/miniconda3/envs/cloudspace/lib/python3.10/site-packages (from transformers) (6.0.2)\n",
            "Requirement already satisfied: regex!=2019.12.17 in /system/conda/miniconda3/envs/cloudspace/lib/python3.10/site-packages (from transformers) (2024.11.6)\n",
            "Requirement already satisfied: requests in /system/conda/miniconda3/envs/cloudspace/lib/python3.10/site-packages (from transformers) (2.32.3)\n",
            "Requirement already satisfied: tokenizers<0.22,>=0.21 in /system/conda/miniconda3/envs/cloudspace/lib/python3.10/site-packages (from transformers) (0.21.1)\n",
            "Requirement already satisfied: safetensors>=0.4.1 in /system/conda/miniconda3/envs/cloudspace/lib/python3.10/site-packages (from transformers) (0.5.3)\n",
            "Requirement already satisfied: tqdm>=4.27 in /system/conda/miniconda3/envs/cloudspace/lib/python3.10/site-packages (from transformers) (4.66.5)\n",
            "Requirement already satisfied: fsspec>=2023.5.0 in /system/conda/miniconda3/envs/cloudspace/lib/python3.10/site-packages (from huggingface-hub<1.0,>=0.26.0->transformers) (2024.9.0)\n",
            "Requirement already satisfied: typing-extensions>=3.7.4.3 in /system/conda/miniconda3/envs/cloudspace/lib/python3.10/site-packages (from huggingface-hub<1.0,>=0.26.0->transformers) (4.12.2)\n",
            "Requirement already satisfied: charset-normalizer<4,>=2 in /system/conda/miniconda3/envs/cloudspace/lib/python3.10/site-packages (from requests->transformers) (3.3.2)\n",
            "Requirement already satisfied: idna<4,>=2.5 in /system/conda/miniconda3/envs/cloudspace/lib/python3.10/site-packages (from requests->transformers) (3.8)\n",
            "Requirement already satisfied: urllib3<3,>=1.21.1 in /system/conda/miniconda3/envs/cloudspace/lib/python3.10/site-packages (from requests->transformers) (2.2.2)\n",
            "Requirement already satisfied: certifi>=2017.4.17 in /system/conda/miniconda3/envs/cloudspace/lib/python3.10/site-packages (from requests->transformers) (2024.8.30)\n",
            "Note: you may need to restart the kernel to use updated packages.\n"
          ]
        }
      ],
      "source": [
        "%pip install transformers"
      ]
    },
    {
      "cell_type": "code",
      "execution_count": 128,
      "metadata": {
        "colab": {
          "base_uri": "https://localhost:8080/",
          "height": 268,
          "referenced_widgets": [
            "1d06f34fde054726bdd4881681163303",
            "d725b0a2931d4768a89d87f0592a441d",
            "af7d9e8da76642d88e6996590ddcfc71",
            "5ac93ab327394a4fa3d49468713e1da0",
            "4526a652a4fa4d239885a6543debbb5a",
            "7d6b33fe99d64e3b9580b165abe00a86",
            "81b73a92821540f19beb4687cb58e77c",
            "4ab803dd96df43158c7794441ddb8867",
            "4ff93480c8fd445595159b3644b84b9a",
            "70a828a3f6cc4f4689c43c165a4b397b",
            "8bdc50241eb84faaa4c8da8d67424461",
            "388223d867634c888158c6bd96455ad2",
            "63144ea405b5458ea1a78e08d13f23a4",
            "c3d1dd1dc7fc41f5a63109315510638f",
            "c6ca4a9f364c4feb944625bb4335d7d5",
            "f93bd2072cb54bcb93289fab8d1fe660",
            "17496ce3b425437484a211a24b428d68",
            "7b8dffba15b2462fa1286ec6a314f9f7",
            "b6ddabd397ba439895c2a8f44a1272cf",
            "c6bcbd747dc741c893fddc0e04bcf428",
            "e21bd50a7f9e41fe836ffb425d897a6e",
            "a77cf078e91340ef86741c90c3c07d0a",
            "10536907d9b2477aac7e59df85a40fd3",
            "2028af93a7e8414e85aeeea9351bf08d",
            "ec3f5ca598e04d3490555095221cc4bf",
            "6543f06b2deb4c4397a1be9da9e37488",
            "b9cc60b422e64cfcb4875622f7d65e5c",
            "a2d5a89d389e445eb8c5500f80ae1259",
            "5786941da005445d8360b879ed3ce24c",
            "ace520050403489399e22fd2fafec4af",
            "f1c29c5cf4e3438dbe56456e649049e8",
            "9edb3b6daa6f4993a60dba35ba4e5b7a",
            "94832b68a5564dbdac5df5f825956c2e",
            "621322e26e0f400d99f44bb9b9506268",
            "89d88f50f1fc4fde8da47b67924aad32",
            "79503e52fe8d4e8285e065a851424775",
            "c6dee85510d541a38eb509393766bcf4",
            "baf0a03a9ce94deba0a5197638f2a709",
            "6a8065b462874dff971f11cdebc9f76c",
            "aab0bb613b00470180b758fd26f4f092",
            "36990e2a5bf7435a882da705a428d9aa",
            "575b8a48432846878415ca4e73d41c8a",
            "ee98023420394c7a940f42ca888c0784",
            "6a80f70f696340708d779b92c18885ea",
            "dc2698566bcc4e48b483fe8060ab7bad",
            "1fdab3be80b24099b41649148589b298",
            "1c963a9b1d004453ab00a04464b63cb9",
            "67a26a0a76394b6f876e6916d23505d7",
            "9325e492b2074d00a86a55805ed7baf3",
            "5aeed1e558ce4788a7cbd084ea2e1994",
            "80b8ad7aed7d4936802a97bc6556c135",
            "69ab2dbb878343558831f1e756351393",
            "3f58ec04182c4960ab5a9e3deab63d50",
            "2d9e61399cdd45508d3a36aa266e9bf8",
            "0d50d5c4ee95442ba911e89ce706c5dc"
          ]
        },
        "id": "zpJw7DAcgHHk",
        "outputId": "c1367f5a-fc28-4014-8e98-ef79590f2a77"
      },
      "outputs": [],
      "source": [
        "#Load pre-trained BERT tokenizer and model\n",
        "from transformers import BertTokenizer, BertModel\n",
        "\n",
        "device = torch.device(\"cuda\" if torch.cuda.is_available() else \"cpu\")\n",
        "tokenizer = BertTokenizer.from_pretrained(\"bert-base-uncased\")\n",
        "model = BertModel.from_pretrained(\"bert-base-uncased\").to(device)"
      ]
    },
    {
      "cell_type": "code",
      "execution_count": 129,
      "metadata": {
        "id": "z4K3m7Yyb9v6"
      },
      "outputs": [],
      "source": [
        "def get_bert_embeddings(text_corpus, tokenizer, model, batch_size=32, strategy=\"mean\"):\n",
        "    embeddings_list = []\n",
        "    \n",
        "    for i in range(0, len(text_corpus), batch_size):\n",
        "        batch = text_corpus[i : i + batch_size]\n",
        "        \n",
        "        inputs = tokenizer(batch, padding=True, truncation=True, return_tensors=\"pt\").to(device)\n",
        "        \n",
        "        with torch.no_grad():\n",
        "            outputs = model(**inputs)\n",
        "        \n",
        "        embeddings = outputs.last_hidden_state  # Shape: (batch_size, seq_len, 768)\n",
        "        \n",
        "        if strategy == \"mean\":\n",
        "            batch_embeddings = torch.mean(embeddings, dim=1)  # Shape: (batch_size, 768)\n",
        "            embeddings_list.append(batch_embeddings)\n",
        "\n",
        "    return torch.cat(embeddings_list, dim=0)  # Shape: (num_samples, 768)\n"
      ]
    },
    {
      "cell_type": "code",
      "execution_count": 130,
      "metadata": {
        "id": "TfQcKRlLgnZ4"
      },
      "outputs": [],
      "source": [
        "train_corpus_embeddings = get_bert_embeddings(train_corpus,tokenizer,model)\n",
        "validation_corpus_embeddings = get_bert_embeddings(validation_corpus,tokenizer,model)"
      ]
    },
    {
      "cell_type": "code",
      "execution_count": 131,
      "metadata": {},
      "outputs": [],
      "source": [
        "writer = SummaryWriter(log_dir=\"runs/embeddings_model\")"
      ]
    },
    {
      "cell_type": "code",
      "execution_count": null,
      "metadata": {
        "id": "UJssywm_iJNK"
      },
      "outputs": [
        {
          "name": "stdout",
          "output_type": "stream",
          "text": [
            "Epoch 1/10\n",
            "Train Loss: 0.6951567530632019 Train Accuracy : 0.4752528901734104\n",
            "Validation Loss: 0.6912474036216736 Validation Accuracy : 0.7117052023121387\n",
            "Best model updated.\n",
            "Epoch 2/10\n",
            "Train Loss: 0.6916710734367371 Train Accuracy : 0.5382947976878613\n",
            "Validation Loss: 0.6869787573814392 Validation Accuracy : 0.5223988439306358\n",
            "Epoch 3/10\n",
            "Train Loss: 0.6871028542518616 Train Accuracy : 0.5700867052023122\n",
            "Validation Loss: 0.6784733533859253 Validation Accuracy : 0.5440751445086706\n",
            "Epoch 4/10\n",
            "Train Loss: 0.6791136860847473 Train Accuracy : 0.5789378612716763\n",
            "Validation Loss: 0.6623886227607727 Validation Accuracy : 0.6401734104046243\n",
            "Epoch 5/10\n",
            "Train Loss: 0.6661970019340515 Train Accuracy : 0.6371026011560693\n",
            "Validation Loss: 0.6378722190856934 Validation Accuracy : 0.7471098265895953\n",
            "Best model updated.\n",
            "Epoch 6/10\n",
            "Train Loss: 0.6444618105888367 Train Accuracy : 0.7149566473988439\n",
            "Validation Loss: 0.6042215824127197 Validation Accuracy : 0.763728323699422\n",
            "Best model updated.\n",
            "Epoch 7/10\n",
            "Train Loss: 0.6166090369224548 Train Accuracy : 0.7373554913294798\n",
            "Validation Loss: 0.5634168982505798 Validation Accuracy : 0.763728323699422\n",
            "Epoch 8/10\n",
            "Train Loss: 0.5811611413955688 Train Accuracy : 0.7465679190751445\n",
            "Validation Loss: 0.5150810480117798 Validation Accuracy : 0.8013005780346821\n",
            "Best model updated.\n",
            "Epoch 9/10\n",
            "Train Loss: 0.5409499406814575 Train Accuracy : 0.7816112716763006\n",
            "Validation Loss: 0.4665215015411377 Validation Accuracy : 0.8273121387283237\n",
            "Best model updated.\n",
            "Epoch 10/10\n",
            "Train Loss: 0.49745723605155945 Train Accuracy : 0.8076228323699421\n",
            "Validation Loss: 0.4234275221824646 Validation Accuracy : 0.8388728323699421\n",
            "Best model updated.\n"
          ]
        },
        {
          "name": "stderr",
          "output_type": "stream",
          "text": [
            "/tmp/ipykernel_2286/3685902665.py:24: UserWarning: To copy construct from a tensor, it is recommended to use sourceTensor.clone().detach() or sourceTensor.clone().detach().requires_grad_(True), rather than torch.tensor(sourceTensor).\n",
            "  train_labels = torch.tensor(train_labels, dtype=torch.long, device=device)\n",
            "/tmp/ipykernel_2286/3685902665.py:45: UserWarning: To copy construct from a tensor, it is recommended to use sourceTensor.clone().detach() or sourceTensor.clone().detach().requires_grad_(True), rather than torch.tensor(sourceTensor).\n",
            "  validation_labels = torch.tensor(validation_labels, dtype=torch.long, device=device)\n",
            "/tmp/ipykernel_2286/3685902665.py:24: UserWarning: To copy construct from a tensor, it is recommended to use sourceTensor.clone().detach() or sourceTensor.clone().detach().requires_grad_(True), rather than torch.tensor(sourceTensor).\n",
            "  train_labels = torch.tensor(train_labels, dtype=torch.long, device=device)\n",
            "/tmp/ipykernel_2286/3685902665.py:45: UserWarning: To copy construct from a tensor, it is recommended to use sourceTensor.clone().detach() or sourceTensor.clone().detach().requires_grad_(True), rather than torch.tensor(sourceTensor).\n",
            "  validation_labels = torch.tensor(validation_labels, dtype=torch.long, device=device)\n",
            "/tmp/ipykernel_2286/3685902665.py:24: UserWarning: To copy construct from a tensor, it is recommended to use sourceTensor.clone().detach() or sourceTensor.clone().detach().requires_grad_(True), rather than torch.tensor(sourceTensor).\n",
            "  train_labels = torch.tensor(train_labels, dtype=torch.long, device=device)\n",
            "/tmp/ipykernel_2286/3685902665.py:45: UserWarning: To copy construct from a tensor, it is recommended to use sourceTensor.clone().detach() or sourceTensor.clone().detach().requires_grad_(True), rather than torch.tensor(sourceTensor).\n",
            "  validation_labels = torch.tensor(validation_labels, dtype=torch.long, device=device)\n",
            "/tmp/ipykernel_2286/3685902665.py:24: UserWarning: To copy construct from a tensor, it is recommended to use sourceTensor.clone().detach() or sourceTensor.clone().detach().requires_grad_(True), rather than torch.tensor(sourceTensor).\n",
            "  train_labels = torch.tensor(train_labels, dtype=torch.long, device=device)\n",
            "/tmp/ipykernel_2286/3685902665.py:45: UserWarning: To copy construct from a tensor, it is recommended to use sourceTensor.clone().detach() or sourceTensor.clone().detach().requires_grad_(True), rather than torch.tensor(sourceTensor).\n",
            "  validation_labels = torch.tensor(validation_labels, dtype=torch.long, device=device)\n",
            "/tmp/ipykernel_2286/3685902665.py:24: UserWarning: To copy construct from a tensor, it is recommended to use sourceTensor.clone().detach() or sourceTensor.clone().detach().requires_grad_(True), rather than torch.tensor(sourceTensor).\n",
            "  train_labels = torch.tensor(train_labels, dtype=torch.long, device=device)\n",
            "/tmp/ipykernel_2286/3685902665.py:45: UserWarning: To copy construct from a tensor, it is recommended to use sourceTensor.clone().detach() or sourceTensor.clone().detach().requires_grad_(True), rather than torch.tensor(sourceTensor).\n",
            "  validation_labels = torch.tensor(validation_labels, dtype=torch.long, device=device)\n",
            "/tmp/ipykernel_2286/3685902665.py:24: UserWarning: To copy construct from a tensor, it is recommended to use sourceTensor.clone().detach() or sourceTensor.clone().detach().requires_grad_(True), rather than torch.tensor(sourceTensor).\n",
            "  train_labels = torch.tensor(train_labels, dtype=torch.long, device=device)\n",
            "/tmp/ipykernel_2286/3685902665.py:45: UserWarning: To copy construct from a tensor, it is recommended to use sourceTensor.clone().detach() or sourceTensor.clone().detach().requires_grad_(True), rather than torch.tensor(sourceTensor).\n",
            "  validation_labels = torch.tensor(validation_labels, dtype=torch.long, device=device)\n",
            "/tmp/ipykernel_2286/3685902665.py:24: UserWarning: To copy construct from a tensor, it is recommended to use sourceTensor.clone().detach() or sourceTensor.clone().detach().requires_grad_(True), rather than torch.tensor(sourceTensor).\n",
            "  train_labels = torch.tensor(train_labels, dtype=torch.long, device=device)\n",
            "/tmp/ipykernel_2286/3685902665.py:45: UserWarning: To copy construct from a tensor, it is recommended to use sourceTensor.clone().detach() or sourceTensor.clone().detach().requires_grad_(True), rather than torch.tensor(sourceTensor).\n",
            "  validation_labels = torch.tensor(validation_labels, dtype=torch.long, device=device)\n",
            "/tmp/ipykernel_2286/3685902665.py:24: UserWarning: To copy construct from a tensor, it is recommended to use sourceTensor.clone().detach() or sourceTensor.clone().detach().requires_grad_(True), rather than torch.tensor(sourceTensor).\n",
            "  train_labels = torch.tensor(train_labels, dtype=torch.long, device=device)\n",
            "/tmp/ipykernel_2286/3685902665.py:45: UserWarning: To copy construct from a tensor, it is recommended to use sourceTensor.clone().detach() or sourceTensor.clone().detach().requires_grad_(True), rather than torch.tensor(sourceTensor).\n",
            "  validation_labels = torch.tensor(validation_labels, dtype=torch.long, device=device)\n",
            "/tmp/ipykernel_2286/3685902665.py:24: UserWarning: To copy construct from a tensor, it is recommended to use sourceTensor.clone().detach() or sourceTensor.clone().detach().requires_grad_(True), rather than torch.tensor(sourceTensor).\n",
            "  train_labels = torch.tensor(train_labels, dtype=torch.long, device=device)\n",
            "/tmp/ipykernel_2286/3685902665.py:45: UserWarning: To copy construct from a tensor, it is recommended to use sourceTensor.clone().detach() or sourceTensor.clone().detach().requires_grad_(True), rather than torch.tensor(sourceTensor).\n",
            "  validation_labels = torch.tensor(validation_labels, dtype=torch.long, device=device)\n"
          ]
        }
      ],
      "source": [
        "# Training Loop\n",
        "\n",
        "loss_func = nn.CrossEntropyLoss()\n",
        "optimizer = torch.optim.Adam(mlp2.parameters(), lr=0.001)\n",
        "n_epochs = 10\n",
        "train_loss = []\n",
        "train_acc = []\n",
        "val_loss = []\n",
        "val_acc = []\n",
        "\n",
        "best_val_acc = 0.0  # Track the best validation accuracy\n",
        "best_model_path = \"best_model_embeddings.pth\"\n",
        "\n",
        "for epoch in range(n_epochs):\n",
        "    mlp2.train()\n",
        "    optimizer.zero_grad()\n",
        "    device = torch.device(\"cuda\" if torch.cuda.is_available() else \"cpu\")\n",
        "\n",
        "    # Move model to device\n",
        "    mlp2.to(device)\n",
        "\n",
        "    # Move tensors to device\n",
        "    train_corpus_embeddings = train_corpus_embeddings.to(device)\n",
        "    train_labels = torch.tensor(train_labels, dtype=torch.long, device=device)\n",
        "    logits = mlp2(train_corpus_embeddings)\n",
        "    loss = loss_func(logits, train_labels)\n",
        "    loss.backward()\n",
        "    optimizer.step()\n",
        "\n",
        "    # Tracking training loss\n",
        "    train_loss.append(loss.item())\n",
        "    # train_accuracy = accuracy_score(train_labels, torch.argmax(logits, dim=1))\n",
        "\n",
        "    train_accuracy = accuracy_score(\n",
        "        train_labels.cpu().numpy(), torch.argmax(logits, dim=1).cpu().numpy()\n",
        "    )\n",
        "    train_acc.append(train_accuracy)\n",
        "    print(f'Epoch {epoch+1}/{n_epochs}')\n",
        "    print(f'Train Loss: {loss.item()} Train Accuracy : {train_accuracy}')\n",
        "\n",
        "    # Tracking validation loss\n",
        "    mlp2.eval()\n",
        "    with torch.no_grad():\n",
        "        logits_val = mlp2(validation_corpus_embeddings)\n",
        "        validation_labels = torch.tensor(validation_labels, dtype=torch.long, device=device)\n",
        "        loss_val = loss_func(logits_val, validation_labels)\n",
        "\n",
        "    val_loss.append(loss_val.item())\n",
        "    val_accuracy = accuracy_score(\n",
        "        validation_labels.cpu().numpy(), torch.argmax(logits_val, dim=1).cpu().numpy()\n",
        "    )\n",
        "    val_acc.append(val_accuracy)\n",
        "    print(f'Validation Loss: {loss_val.item()} Validation Accuracy : {val_accuracy}')\n",
        "\n",
        "    # Log to TensorBoard\n",
        "    writer.add_scalar(\"Loss/Train\", loss.item(), epoch)\n",
        "    writer.add_scalar(\"Loss/Validation\", loss_val.item(), epoch)\n",
        "    writer.add_scalar(\"Accuracy/Train\", train_accuracy, epoch)\n",
        "    writer.add_scalar(\"Accuracy/Validation\", val_accuracy, epoch)\n",
        "\n",
        "    # Save the best model based on validation accuracy\n",
        "    if val_accuracy > best_val_acc:\n",
        "        best_val_acc = val_accuracy\n",
        "        torch.save(mlp2.state_dict(), best_model_path)\n",
        "        print(\"Best model updated.\")\n",
        "\n",
        "\n"
      ]
    },
    {
      "cell_type": "code",
      "execution_count": 133,
      "metadata": {
        "id": "xdZkE_H1jNz2"
      },
      "outputs": [
        {
          "name": "stdout",
          "output_type": "stream",
          "text": [
            "FINAL EVALUATION METRICS FOR EMBEDDINGS\n",
            "Train Loss: 0.49745723605155945 | Train Accuracy : 0.8076228323699421\n",
            "Validation Loss: 0.4234275221824646 | Validation Accuracy : 0.8388728323699421\n",
            "\n"
          ]
        },
        {
          "data": {
            "image/png": "[encoded data removed]",
            "text/plain": [
              "<Figure size 640x480 with 1 Axes>"
            ]
          },
          "metadata": {},
          "output_type": "display_data"
        },
        {
          "data": {
            "image/png": "[encoded data removed]",
            "text/plain": [
              "<Figure size 640x480 with 1 Axes>"
            ]
          },
          "metadata": {},
          "output_type": "display_data"
        },
        {
          "name": "stdout",
          "output_type": "stream",
          "text": [
            "\n",
            "CONFUSION MATRIX FOR VALIDATION DATASET\n"
          ]
        },
        {
          "data": {
            "image/png": "[encoded data removed]",
            "text/plain": [
              "<Figure size 600x500 with 2 Axes>"
            ]
          },
          "metadata": {},
          "output_type": "display_data"
        }
      ],
      "source": [
        "#Final Evaluation Metrics\n",
        "mlp2.eval()\n",
        "print(\"FINAL EVALUATION METRICS FOR EMBEDDINGS\")\n",
        "print(f'Train Loss: {train_loss[-1]} | Train Accuracy : {train_acc[-1]}')\n",
        "print(f'Validation Loss: {val_loss[-1]} | Validation Accuracy : {val_acc[-1]}')\n",
        "print()\n",
        "\n",
        "#Plot the accuracy and validation curves\n",
        "import matplotlib.pyplot as plt\n",
        "plt.plot(train_acc, label='Training Accuracy', color = 'r')\n",
        "plt.plot(val_acc, label='Validation Accuracy', color = 'b')\n",
        "plt.xlabel('Epochs')\n",
        "plt.ylabel('Accuracy')\n",
        "plt.title(\"Accuracy Curve\")\n",
        "plt.legend()\n",
        "plt.show()\n",
        "\n",
        "plt.plot(train_loss, label='Training Loss', color = 'r')\n",
        "plt.plot(val_loss, label='Validation Loss', color = 'b')\n",
        "plt.xlabel('Epochs')\n",
        "plt.ylabel('Loss')\n",
        "plt.title(\"Loss Curve\")\n",
        "plt.legend()\n",
        "plt.show()\n",
        "\n",
        "#Plot the confusion matrix\n",
        "from sklearn.metrics import confusion_matrix\n",
        "import seaborn as sns\n",
        "\n",
        "print(\"\\nCONFUSION MATRIX FOR VALIDATION DATASET\")\n",
        "logits_val = mlp2(validation_corpus_embeddings)\n",
        "confusion_mat = confusion_matrix(validation_labels.cpu().numpy(), torch.argmax(logits_val, dim=1).cpu().numpy())\n",
        "# print(f'Confusion Matrix: \\n{confusion_mat}')\n",
        "class_labels = ['0' ,'1']\n",
        "plt.figure(figsize=(6, 5))\n",
        "sns.heatmap(confusion_mat, annot=True, fmt='d', cmap='Blues',\n",
        "            xticklabels=class_labels, yticklabels=class_labels)\n",
        "\n",
        "plt.xlabel('Predicted Labels')\n",
        "plt.ylabel('True Labels')\n",
        "plt.title('Confusion Matrix')\n",
        "plt.show()"
      ]
    },
    {
      "cell_type": "markdown",
      "metadata": {
        "id": "-86WetlefalK"
      },
      "source": [
        "# **RESUME TRAINING ON IMDB DATASET**"
      ]
    },
    {
      "cell_type": "code",
      "execution_count": 101,
      "metadata": {
        "id": "YyTuFnAkfZ9f"
      },
      "outputs": [
        {
          "name": "stdout",
          "output_type": "stream",
          "text": [
            "--2025-03-15 09:25:24--  https://raw.githubusercontent.com/Ankit152/IMDB-sentiment-analysis/master/IMDB-Dataset.csv\n",
            "Resolving raw.githubusercontent.com (raw.githubusercontent.com)... 185.199.111.133, 185.199.110.133, 185.199.109.133, ...\n",
            "Connecting to raw.githubusercontent.com (raw.githubusercontent.com)|185.199.111.133|:443... connected.\n",
            "HTTP request sent, awaiting response... 200 OK\n",
            "Length: 66212309 (63M) [text/plain]\n",
            "Saving to: ‘IMDB-Dataset.csv.2’\n",
            "\n",
            "IMDB-Dataset.csv.2  100%[===================>]  63.14M   138MB/s    in 0.5s    \n",
            "\n",
            "2025-03-15 09:25:25 (138 MB/s) - ‘IMDB-Dataset.csv.2’ saved [66212309/66212309]\n",
            "\n"
          ]
        }
      ],
      "source": [
        "! wget https://raw.githubusercontent.com/Ankit152/IMDB-sentiment-analysis/master/IMDB-Dataset.csv"
      ]
    },
    {
      "cell_type": "code",
      "execution_count": null,
      "metadata": {
        "id": "Fn3njlE9gajf"
      },
      "outputs": [
        {
          "data": {
            "text/html": [
              "<div>\n",
              "<style scoped>\n",
              "    .dataframe tbody tr th:only-of-type {\n",
              "        vertical-align: middle;\n",
              "    }\n",
              "\n",
              "    .dataframe tbody tr th {\n",
              "        vertical-align: top;\n",
              "    }\n",
              "\n",
              "    .dataframe thead th {\n",
              "        text-align: right;\n",
              "    }\n",
              "</style>\n",
              "<table border=\"1\" class=\"dataframe\">\n",
              "  <thead>\n",
              "    <tr style=\"text-align: right;\">\n",
              "      <th></th>\n",
              "      <th>review</th>\n",
              "      <th>sentiment</th>\n",
              "      <th>label</th>\n",
              "    </tr>\n",
              "  </thead>\n",
              "  <tbody>\n",
              "    <tr>\n",
              "      <th>0</th>\n",
              "      <td>One of the other reviewers has mentioned that ...</td>\n",
              "      <td>positive</td>\n",
              "      <td>1</td>\n",
              "    </tr>\n",
              "    <tr>\n",
              "      <th>1</th>\n",
              "      <td>A wonderful little production. &lt;br /&gt;&lt;br /&gt;The...</td>\n",
              "      <td>positive</td>\n",
              "      <td>1</td>\n",
              "    </tr>\n",
              "    <tr>\n",
              "      <th>2</th>\n",
              "      <td>I thought this was a wonderful way to spend ti...</td>\n",
              "      <td>positive</td>\n",
              "      <td>1</td>\n",
              "    </tr>\n",
              "    <tr>\n",
              "      <th>3</th>\n",
              "      <td>Basically there's a family where a little boy ...</td>\n",
              "      <td>negative</td>\n",
              "      <td>0</td>\n",
              "    </tr>\n",
              "    <tr>\n",
              "      <th>4</th>\n",
              "      <td>Petter Mattei's \"Love in the Time of Money\" is...</td>\n",
              "      <td>positive</td>\n",
              "      <td>1</td>\n",
              "    </tr>\n",
              "    <tr>\n",
              "      <th>...</th>\n",
              "      <td>...</td>\n",
              "      <td>...</td>\n",
              "      <td>...</td>\n",
              "    </tr>\n",
              "    <tr>\n",
              "      <th>49995</th>\n",
              "      <td>I thought this movie did a down right good job...</td>\n",
              "      <td>positive</td>\n",
              "      <td>1</td>\n",
              "    </tr>\n",
              "    <tr>\n",
              "      <th>49996</th>\n",
              "      <td>Bad plot, bad dialogue, bad acting, idiotic di...</td>\n",
              "      <td>negative</td>\n",
              "      <td>0</td>\n",
              "    </tr>\n",
              "    <tr>\n",
              "      <th>49997</th>\n",
              "      <td>I am a Catholic taught in parochial elementary...</td>\n",
              "      <td>negative</td>\n",
              "      <td>0</td>\n",
              "    </tr>\n",
              "    <tr>\n",
              "      <th>49998</th>\n",
              "      <td>I'm going to have to disagree with the previou...</td>\n",
              "      <td>negative</td>\n",
              "      <td>0</td>\n",
              "    </tr>\n",
              "    <tr>\n",
              "      <th>49999</th>\n",
              "      <td>No one expects the Star Trek movies to be high...</td>\n",
              "      <td>negative</td>\n",
              "      <td>0</td>\n",
              "    </tr>\n",
              "  </tbody>\n",
              "</table>\n",
              "<p>50000 rows × 3 columns</p>\n",
              "</div>"
            ],
            "text/plain": [
              "                                                  review sentiment  label\n",
              "0      One of the other reviewers has mentioned that ...  positive      1\n",
              "1      A wonderful little production. <br /><br />The...  positive      1\n",
              "2      I thought this was a wonderful way to spend ti...  positive      1\n",
              "3      Basically there's a family where a little boy ...  negative      0\n",
              "4      Petter Mattei's \"Love in the Time of Money\" is...  positive      1\n",
              "...                                                  ...       ...    ...\n",
              "49995  I thought this movie did a down right good job...  positive      1\n",
              "49996  Bad plot, bad dialogue, bad acting, idiotic di...  negative      0\n",
              "49997  I am a Catholic taught in parochial elementary...  negative      0\n",
              "49998  I'm going to have to disagree with the previou...  negative      0\n",
              "49999  No one expects the Star Trek movies to be high...  negative      0\n",
              "\n",
              "[50000 rows x 3 columns]"
            ]
          },
          "execution_count": 102,
          "metadata": {},
          "output_type": "execute_result"
        }
      ],
      "source": [
        "#Load the dataset into train test and validation\n",
        "imdb_data = pd.read_csv('IMDB-Dataset.csv')\n",
        "imdb_data['label'] = imdb_data['sentiment'].map({'positive': 1, 'negative': 0})\n",
        "imdb_data"
      ]
    },
    {
      "cell_type": "code",
      "execution_count": 103,
      "metadata": {
        "id": "nfJMd0_HhQA9"
      },
      "outputs": [],
      "source": [
        "imdb_train_data, imdb_test_data = train_test_split(imdb_data, test_size=0.2, random_state=42)\n",
        "imdb_train_data, imdb_val_data = train_test_split(imdb_train_data, test_size=0.2, random_state=42)"
      ]
    },
    {
      "cell_type": "code",
      "execution_count": 104,
      "metadata": {
        "id": "n67oJzurhip0"
      },
      "outputs": [],
      "source": [
        "imdb_train_corpus = imdb_train_data['review'].tolist()\n",
        "imdb_train_labels = imdb_train_data['label'].tolist()\n",
        "imdb_validation_corpus = imdb_val_data['review'].tolist()\n",
        "imdb_validation_labels = imdb_val_data['label'].tolist()"
      ]
    },
    {
      "cell_type": "markdown",
      "metadata": {
        "id": "Tv-KbAsCiL2V"
      },
      "source": [
        "**1] RESUME TRAINING USING BAG OF WORDS**"
      ]
    },
    {
      "cell_type": "code",
      "execution_count": 105,
      "metadata": {
        "id": "9w-nNqA9mhzK"
      },
      "outputs": [],
      "source": [
        "imdb_X_train = vectorizer.transform(imdb_train_corpus)\n",
        "imdb_X_val = vectorizer.transform(imdb_validation_corpus)"
      ]
    },
    {
      "cell_type": "code",
      "execution_count": 149,
      "metadata": {},
      "outputs": [],
      "source": [
        "writer = SummaryWriter(\"runs/imdb_bow\")"
      ]
    },
    {
      "cell_type": "code",
      "execution_count": 155,
      "metadata": {
        "id": "qvdDozr2iLgA"
      },
      "outputs": [
        {
          "name": "stderr",
          "output_type": "stream",
          "text": [
            "/tmp/ipykernel_2286/4057736793.py:26: UserWarning: To copy construct from a tensor, it is recommended to use sourceTensor.clone().detach() or sourceTensor.clone().detach().requires_grad_(True), rather than torch.tensor(sourceTensor).\n",
            "  imdb_train_labels =  torch.tensor(imdb_train_labels, dtype=torch.long, device = device)\n"
          ]
        },
        {
          "name": "stdout",
          "output_type": "stream",
          "text": [
            "Epoch 1/10\n",
            "Train Loss: 0.6175968050956726 Train Accuracy : 0.7138125\n"
          ]
        },
        {
          "name": "stderr",
          "output_type": "stream",
          "text": [
            "/tmp/ipykernel_2286/4057736793.py:42: UserWarning: To copy construct from a tensor, it is recommended to use sourceTensor.clone().detach() or sourceTensor.clone().detach().requires_grad_(True), rather than torch.tensor(sourceTensor).\n",
            "  imdb_validation_labels = torch.tensor(imdb_validation_labels, dtype=torch.long, device=device)\n"
          ]
        },
        {
          "name": "stdout",
          "output_type": "stream",
          "text": [
            "Validation Loss: 0.5904448628425598 Validation Accuracy : 0.761625\n"
          ]
        },
        {
          "name": "stderr",
          "output_type": "stream",
          "text": [
            "/tmp/ipykernel_2286/4057736793.py:26: UserWarning: To copy construct from a tensor, it is recommended to use sourceTensor.clone().detach() or sourceTensor.clone().detach().requires_grad_(True), rather than torch.tensor(sourceTensor).\n",
            "  imdb_train_labels =  torch.tensor(imdb_train_labels, dtype=torch.long, device = device)\n"
          ]
        },
        {
          "name": "stdout",
          "output_type": "stream",
          "text": [
            "Epoch 2/10\n",
            "Train Loss: 0.6041326522827148 Train Accuracy : 0.74284375\n"
          ]
        },
        {
          "name": "stderr",
          "output_type": "stream",
          "text": [
            "/tmp/ipykernel_2286/4057736793.py:42: UserWarning: To copy construct from a tensor, it is recommended to use sourceTensor.clone().detach() or sourceTensor.clone().detach().requires_grad_(True), rather than torch.tensor(sourceTensor).\n",
            "  imdb_validation_labels = torch.tensor(imdb_validation_labels, dtype=torch.long, device=device)\n"
          ]
        },
        {
          "name": "stdout",
          "output_type": "stream",
          "text": [
            "Validation Loss: 0.5800657868385315 Validation Accuracy : 0.78075\n"
          ]
        },
        {
          "name": "stderr",
          "output_type": "stream",
          "text": [
            "/tmp/ipykernel_2286/4057736793.py:26: UserWarning: To copy construct from a tensor, it is recommended to use sourceTensor.clone().detach() or sourceTensor.clone().detach().requires_grad_(True), rather than torch.tensor(sourceTensor).\n",
            "  imdb_train_labels =  torch.tensor(imdb_train_labels, dtype=torch.long, device = device)\n"
          ]
        },
        {
          "name": "stdout",
          "output_type": "stream",
          "text": [
            "Epoch 3/10\n",
            "Train Loss: 0.5952691435813904 Train Accuracy : 0.75546875\n"
          ]
        },
        {
          "name": "stderr",
          "output_type": "stream",
          "text": [
            "/tmp/ipykernel_2286/4057736793.py:42: UserWarning: To copy construct from a tensor, it is recommended to use sourceTensor.clone().detach() or sourceTensor.clone().detach().requires_grad_(True), rather than torch.tensor(sourceTensor).\n",
            "  imdb_validation_labels = torch.tensor(imdb_validation_labels, dtype=torch.long, device=device)\n"
          ]
        },
        {
          "name": "stdout",
          "output_type": "stream",
          "text": [
            "Validation Loss: 0.5748967528343201 Validation Accuracy : 0.7815\n"
          ]
        },
        {
          "name": "stderr",
          "output_type": "stream",
          "text": [
            "/tmp/ipykernel_2286/4057736793.py:26: UserWarning: To copy construct from a tensor, it is recommended to use sourceTensor.clone().detach() or sourceTensor.clone().detach().requires_grad_(True), rather than torch.tensor(sourceTensor).\n",
            "  imdb_train_labels =  torch.tensor(imdb_train_labels, dtype=torch.long, device = device)\n"
          ]
        },
        {
          "name": "stdout",
          "output_type": "stream",
          "text": [
            "Epoch 4/10\n",
            "Train Loss: 0.5904573798179626 Train Accuracy : 0.7559375\n"
          ]
        },
        {
          "name": "stderr",
          "output_type": "stream",
          "text": [
            "/tmp/ipykernel_2286/4057736793.py:42: UserWarning: To copy construct from a tensor, it is recommended to use sourceTensor.clone().detach() or sourceTensor.clone().detach().requires_grad_(True), rather than torch.tensor(sourceTensor).\n",
            "  imdb_validation_labels = torch.tensor(imdb_validation_labels, dtype=torch.long, device=device)\n"
          ]
        },
        {
          "name": "stdout",
          "output_type": "stream",
          "text": [
            "Validation Loss: 0.5720154047012329 Validation Accuracy : 0.777\n"
          ]
        },
        {
          "name": "stderr",
          "output_type": "stream",
          "text": [
            "/tmp/ipykernel_2286/4057736793.py:26: UserWarning: To copy construct from a tensor, it is recommended to use sourceTensor.clone().detach() or sourceTensor.clone().detach().requires_grad_(True), rather than torch.tensor(sourceTensor).\n",
            "  imdb_train_labels =  torch.tensor(imdb_train_labels, dtype=torch.long, device = device)\n"
          ]
        },
        {
          "name": "stdout",
          "output_type": "stream",
          "text": [
            "Epoch 5/10\n",
            "Train Loss: 0.5868505835533142 Train Accuracy : 0.75590625\n"
          ]
        },
        {
          "name": "stderr",
          "output_type": "stream",
          "text": [
            "/tmp/ipykernel_2286/4057736793.py:42: UserWarning: To copy construct from a tensor, it is recommended to use sourceTensor.clone().detach() or sourceTensor.clone().detach().requires_grad_(True), rather than torch.tensor(sourceTensor).\n",
            "  imdb_validation_labels = torch.tensor(imdb_validation_labels, dtype=torch.long, device=device)\n"
          ]
        },
        {
          "name": "stdout",
          "output_type": "stream",
          "text": [
            "Validation Loss: 0.5684310793876648 Validation Accuracy : 0.77675\n"
          ]
        },
        {
          "name": "stderr",
          "output_type": "stream",
          "text": [
            "/tmp/ipykernel_2286/4057736793.py:26: UserWarning: To copy construct from a tensor, it is recommended to use sourceTensor.clone().detach() or sourceTensor.clone().detach().requires_grad_(True), rather than torch.tensor(sourceTensor).\n",
            "  imdb_train_labels =  torch.tensor(imdb_train_labels, dtype=torch.long, device = device)\n"
          ]
        },
        {
          "name": "stdout",
          "output_type": "stream",
          "text": [
            "Epoch 6/10\n",
            "Train Loss: 0.5839412212371826 Train Accuracy : 0.75203125\n"
          ]
        },
        {
          "name": "stderr",
          "output_type": "stream",
          "text": [
            "/tmp/ipykernel_2286/4057736793.py:42: UserWarning: To copy construct from a tensor, it is recommended to use sourceTensor.clone().detach() or sourceTensor.clone().detach().requires_grad_(True), rather than torch.tensor(sourceTensor).\n",
            "  imdb_validation_labels = torch.tensor(imdb_validation_labels, dtype=torch.long, device=device)\n"
          ]
        },
        {
          "name": "stdout",
          "output_type": "stream",
          "text": [
            "Validation Loss: 0.5627538561820984 Validation Accuracy : 0.780625\n"
          ]
        },
        {
          "name": "stderr",
          "output_type": "stream",
          "text": [
            "/tmp/ipykernel_2286/4057736793.py:26: UserWarning: To copy construct from a tensor, it is recommended to use sourceTensor.clone().detach() or sourceTensor.clone().detach().requires_grad_(True), rather than torch.tensor(sourceTensor).\n",
            "  imdb_train_labels =  torch.tensor(imdb_train_labels, dtype=torch.long, device = device)\n"
          ]
        },
        {
          "name": "stdout",
          "output_type": "stream",
          "text": [
            "Epoch 7/10\n",
            "Train Loss: 0.5790843367576599 Train Accuracy : 0.75975\n"
          ]
        },
        {
          "name": "stderr",
          "output_type": "stream",
          "text": [
            "/tmp/ipykernel_2286/4057736793.py:42: UserWarning: To copy construct from a tensor, it is recommended to use sourceTensor.clone().detach() or sourceTensor.clone().detach().requires_grad_(True), rather than torch.tensor(sourceTensor).\n",
            "  imdb_validation_labels = torch.tensor(imdb_validation_labels, dtype=torch.long, device=device)\n"
          ]
        },
        {
          "name": "stdout",
          "output_type": "stream",
          "text": [
            "Validation Loss: 0.5554437637329102 Validation Accuracy : 0.786375\n"
          ]
        },
        {
          "name": "stderr",
          "output_type": "stream",
          "text": [
            "/tmp/ipykernel_2286/4057736793.py:26: UserWarning: To copy construct from a tensor, it is recommended to use sourceTensor.clone().detach() or sourceTensor.clone().detach().requires_grad_(True), rather than torch.tensor(sourceTensor).\n",
            "  imdb_train_labels =  torch.tensor(imdb_train_labels, dtype=torch.long, device = device)\n"
          ]
        },
        {
          "name": "stdout",
          "output_type": "stream",
          "text": [
            "Epoch 8/10\n",
            "Train Loss: 0.5715555548667908 Train Accuracy : 0.76465625\n"
          ]
        },
        {
          "name": "stderr",
          "output_type": "stream",
          "text": [
            "/tmp/ipykernel_2286/4057736793.py:42: UserWarning: To copy construct from a tensor, it is recommended to use sourceTensor.clone().detach() or sourceTensor.clone().detach().requires_grad_(True), rather than torch.tensor(sourceTensor).\n",
            "  imdb_validation_labels = torch.tensor(imdb_validation_labels, dtype=torch.long, device=device)\n"
          ]
        },
        {
          "name": "stdout",
          "output_type": "stream",
          "text": [
            "Validation Loss: 0.5476364493370056 Validation Accuracy : 0.79625\n"
          ]
        },
        {
          "name": "stderr",
          "output_type": "stream",
          "text": [
            "/tmp/ipykernel_2286/4057736793.py:26: UserWarning: To copy construct from a tensor, it is recommended to use sourceTensor.clone().detach() or sourceTensor.clone().detach().requires_grad_(True), rather than torch.tensor(sourceTensor).\n",
            "  imdb_train_labels =  torch.tensor(imdb_train_labels, dtype=torch.long, device = device)\n"
          ]
        },
        {
          "name": "stdout",
          "output_type": "stream",
          "text": [
            "Epoch 9/10\n",
            "Train Loss: 0.5655698180198669 Train Accuracy : 0.7735625\n"
          ]
        },
        {
          "name": "stderr",
          "output_type": "stream",
          "text": [
            "/tmp/ipykernel_2286/4057736793.py:42: UserWarning: To copy construct from a tensor, it is recommended to use sourceTensor.clone().detach() or sourceTensor.clone().detach().requires_grad_(True), rather than torch.tensor(sourceTensor).\n",
            "  imdb_validation_labels = torch.tensor(imdb_validation_labels, dtype=torch.long, device=device)\n"
          ]
        },
        {
          "name": "stdout",
          "output_type": "stream",
          "text": [
            "Validation Loss: 0.5403628349304199 Validation Accuracy : 0.80375\n"
          ]
        },
        {
          "name": "stderr",
          "output_type": "stream",
          "text": [
            "/tmp/ipykernel_2286/4057736793.py:26: UserWarning: To copy construct from a tensor, it is recommended to use sourceTensor.clone().detach() or sourceTensor.clone().detach().requires_grad_(True), rather than torch.tensor(sourceTensor).\n",
            "  imdb_train_labels =  torch.tensor(imdb_train_labels, dtype=torch.long, device = device)\n"
          ]
        },
        {
          "name": "stdout",
          "output_type": "stream",
          "text": [
            "Epoch 10/10\n",
            "Train Loss: 0.5579841732978821 Train Accuracy : 0.7805625\n",
            "Validation Loss: 0.5342373847961426 Validation Accuracy : 0.802875\n"
          ]
        },
        {
          "name": "stderr",
          "output_type": "stream",
          "text": [
            "/tmp/ipykernel_2286/4057736793.py:42: UserWarning: To copy construct from a tensor, it is recommended to use sourceTensor.clone().detach() or sourceTensor.clone().detach().requires_grad_(True), rather than torch.tensor(sourceTensor).\n",
            "  imdb_validation_labels = torch.tensor(imdb_validation_labels, dtype=torch.long, device=device)\n"
          ]
        }
      ],
      "source": [
        "#Load the best checkpoint\n",
        "model_loaded_bow = nn.Sequential(\n",
        "    nn.Linear(10000, 512),nn.ReLU(),nn.Dropout(0.3),\n",
        "    nn.Linear(512, 256),nn.ReLU(),nn.Dropout(0.3),\n",
        "    nn.Linear(256, 128),nn.ReLU(),nn.Dropout(0.3),\n",
        "    nn.Linear(128, 64),nn.ReLU(),nn.Dropout(0.3),\n",
        "    nn.Linear(64, 2)  # No activation for final layer (assumes logits for classification)\n",
        ")\n",
        "model_loaded_bow.load_state_dict(torch.load(\"best_model_bow.pth\"))\n",
        "\n",
        "criterion = nn.CrossEntropyLoss()\n",
        "optimizer = torch.optim.Adam(model_loaded_bow.parameters(), lr=0.0001)  # Smaller learning rate\n",
        "n_epochs = 10\n",
        "\n",
        "train_loss = []\n",
        "train_acc = []\n",
        "val_loss = []\n",
        "val_acc = []\n",
        "\n",
        "for epoch in range(n_epochs):\n",
        "    model_loaded_bow.train()\n",
        "    optimizer.zero_grad()\n",
        "\n",
        "    model_loaded_bow.to(device)\n",
        "    logits = model_loaded_bow(torch.tensor(imdb_X_train.toarray(), dtype=torch.float32, device=device))\n",
        "    imdb_train_labels =  torch.tensor(imdb_train_labels, dtype=torch.long, device = device)\n",
        "    loss = loss_func(logits,imdb_train_labels)\n",
        "    loss.backward()\n",
        "    optimizer.step()\n",
        "\n",
        "    # Tracking training loss\n",
        "    train_loss.append(loss.item())\n",
        "    train_accuracy = accuracy_score(imdb_train_labels.cpu().numpy(), torch.argmax(logits, dim=1).cpu().numpy())\n",
        "    train_acc.append(train_accuracy)\n",
        "    print(f'Epoch {epoch+1}/{n_epochs}')\n",
        "    print(f'Train Loss: {loss.item()} Train Accuracy : {train_accuracy}')\n",
        "\n",
        "    # Tracking validation loss\n",
        "    model_loaded_bow.eval()\n",
        "    with torch.no_grad():\n",
        "        logits_val = model_loaded_bow(torch.tensor(imdb_X_val.toarray(), dtype=torch.float32, device=device))\n",
        "        imdb_validation_labels = torch.tensor(imdb_validation_labels, dtype=torch.long, device=device)\n",
        "        loss_val = loss_func(logits_val, imdb_validation_labels)\n",
        "\n",
        "    val_loss.append(loss_val.item())\n",
        "    val_accuracy = accuracy_score(imdb_validation_labels.cpu().numpy(), torch.argmax(logits_val, dim=1).cpu().numpy())\n",
        "    val_acc.append(val_accuracy)\n",
        "\n",
        "    writer.add_scalar(\"Loss/Train\", loss.item(), epoch)\n",
        "    writer.add_scalar(\"Loss/Validation\", loss_val.item(), epoch)\n",
        "    writer.add_scalar(\"Accuracy/Train\", train_accuracy, epoch)\n",
        "    writer.add_scalar(\"Accuracy/Validation\", val_accuracy, epoch)\n",
        "    print(f'Validation Loss: {loss_val.item()} Validation Accuracy : {val_accuracy}')\n",
        "writer.close()"
      ]
    },
    {
      "cell_type": "code",
      "execution_count": 158,
      "metadata": {
        "id": "2fkTFjJRm0ZI"
      },
      "outputs": [
        {
          "name": "stdout",
          "output_type": "stream",
          "text": [
            "FINAL EVALUATION METRICS FOR BOW\n",
            "Train Loss: 0.5579841732978821 | Train Accuracy : 0.7805625\n",
            "Validation Loss: 0.5342373847961426 | Validation Accuracy : 0.802875\n",
            "\n"
          ]
        },
        {
          "data": {
            "image/png": "[encoded data removed]",
            "text/plain": [
              "<Figure size 640x480 with 1 Axes>"
            ]
          },
          "metadata": {},
          "output_type": "display_data"
        },
        {
          "data": {
            "image/png": "[encoded data removed]",
            "text/plain": [
              "<Figure size 640x480 with 1 Axes>"
            ]
          },
          "metadata": {},
          "output_type": "display_data"
        },
        {
          "name": "stdout",
          "output_type": "stream",
          "text": [
            "\n",
            "CONFUSION MATRIX FOR VALIDATION DATASET FOR IMDB DATASET\n"
          ]
        },
        {
          "data": {
            "image/png": "[encoded data removed]",
            "text/plain": [
              "<Figure size 600x500 with 2 Axes>"
            ]
          },
          "metadata": {},
          "output_type": "display_data"
        }
      ],
      "source": [
        "#Final Evaluation Metrics\n",
        "model_loaded_bow.eval()\n",
        "print(\"FINAL EVALUATION METRICS FOR BOW\")\n",
        "print(f'Train Loss: {train_loss[-1]} | Train Accuracy : {train_acc[-1]}')\n",
        "print(f'Validation Loss: {val_loss[-1]} | Validation Accuracy : {val_acc[-1]}')\n",
        "print()\n",
        "\n",
        "#Plot the accuracy and validation curves\n",
        "import matplotlib.pyplot as plt\n",
        "plt.plot(train_acc, label='Training Accuracy', color = 'r')\n",
        "plt.plot(val_acc, label='Validation Accuracy', color = 'b')\n",
        "plt.xlabel('Epochs')\n",
        "plt.ylabel('Accuracy')\n",
        "plt.title(\"Accuracy Curve for IMDB Dataset\")\n",
        "plt.legend()\n",
        "plt.show()\n",
        "\n",
        "plt.plot(train_loss, label='Training Loss', color = 'r')\n",
        "plt.plot(val_loss, label='Validation Loss', color = 'b')\n",
        "plt.xlabel('Epochs')\n",
        "plt.ylabel('Loss')\n",
        "plt.title(\"Loss Curve for IMDB Dataset\")\n",
        "plt.legend()\n",
        "plt.show()\n",
        "\n",
        "#Plot the confusion matrix\n",
        "from sklearn.metrics import confusion_matrix\n",
        "import seaborn as sns\n",
        "\n",
        "print(\"\\nCONFUSION MATRIX FOR VALIDATION DATASET FOR IMDB DATASET\")\n",
        "logits_val = model_loaded_bow(torch.tensor(imdb_X_val.toarray(), dtype=torch.float32, device=device))\n",
        "confusion_mat = confusion_matrix(imdb_validation_labels.cpu().numpy(), torch.argmax(logits_val, dim=1).cpu().numpy())\n",
        "# print(f'Confusion Matrix: \\n{confusion_mat}')\n",
        "class_labels = ['0' ,'1']\n",
        "plt.figure(figsize=(6, 5))\n",
        "sns.heatmap(confusion_mat, annot=True, fmt='d', cmap='Blues',\n",
        "            xticklabels=class_labels, yticklabels=class_labels)\n",
        "\n",
        "plt.xlabel('Predicted Labels')\n",
        "plt.ylabel('True Labels')\n",
        "plt.title('Confusion Matrix for IMDB Dataset')\n",
        "plt.show()"
      ]
    },
    {
      "cell_type": "markdown",
      "metadata": {
        "id": "XmyFaCiTovq6"
      },
      "source": [
        "**2] RESUME TRAINING USING EMBEDDINGS**"
      ]
    },
    {
      "cell_type": "code",
      "execution_count": 159,
      "metadata": {
        "id": "Q-_L2ubzo08x"
      },
      "outputs": [],
      "source": [
        "imdb_train_corpus_embeddings = get_bert_embeddings(imdb_train_corpus,tokenizer,model)\n",
        "imdb_validation_corpus_embeddings = get_bert_embeddings(imdb_validation_corpus,tokenizer,model)"
      ]
    },
    {
      "cell_type": "code",
      "execution_count": 160,
      "metadata": {},
      "outputs": [],
      "source": [
        "writer = SummaryWriter(\"runs/imdb_embedding_model\")"
      ]
    },
    {
      "cell_type": "code",
      "execution_count": 161,
      "metadata": {
        "id": "baXWlk8PkLTk"
      },
      "outputs": [
        {
          "name": "stdout",
          "output_type": "stream",
          "text": [
            "Epoch 1/10\n",
            "Train Loss: 0.5183415412902832 Train Accuracy : 0.78821875\n",
            "Validation Loss: 0.475151002407074 Validation Accuracy : 0.823875\n",
            "Epoch 2/10\n",
            "Train Loss: 0.5072173476219177 Train Accuracy : 0.7944375\n",
            "Validation Loss: 0.4683833420276642 Validation Accuracy : 0.821875\n",
            "Epoch 3/10\n",
            "Train Loss: 0.506285548210144 Train Accuracy : 0.78565625\n",
            "Validation Loss: 0.46503013372421265 Validation Accuracy : 0.820125\n",
            "Epoch 4/10\n",
            "Train Loss: 0.5039001107215881 Train Accuracy : 0.78365625\n",
            "Validation Loss: 0.4601801931858063 Validation Accuracy : 0.825375\n",
            "Epoch 5/10\n",
            "Train Loss: 0.4978800117969513 Train Accuracy : 0.7925625\n",
            "Validation Loss: 0.45595356822013855 Validation Accuracy : 0.8285\n",
            "Epoch 6/10\n",
            "Train Loss: 0.492461234331131 Train Accuracy : 0.7989375\n",
            "Validation Loss: 0.45391353964805603 Validation Accuracy : 0.831625\n",
            "Epoch 7/10\n",
            "Train Loss: 0.48917627334594727 Train Accuracy : 0.80225\n",
            "Validation Loss: 0.4530412256717682 Validation Accuracy : 0.831\n",
            "Epoch 8/10\n",
            "Train Loss: 0.4852086007595062 Train Accuracy : 0.80725\n",
            "Validation Loss: 0.45102524757385254 Validation Accuracy : 0.830375\n",
            "Epoch 9/10\n",
            "Train Loss: 0.483951210975647 Train Accuracy : 0.80790625\n",
            "Validation Loss: 0.44677549600601196 Validation Accuracy : 0.832125\n",
            "Epoch 10/10\n",
            "Train Loss: 0.4785939157009125 Train Accuracy : 0.809625\n",
            "Validation Loss: 0.44071438908576965 Validation Accuracy : 0.833875\n"
          ]
        },
        {
          "name": "stderr",
          "output_type": "stream",
          "text": [
            "/tmp/ipykernel_2286/4012133332.py:30: UserWarning: To copy construct from a tensor, it is recommended to use sourceTensor.clone().detach() or sourceTensor.clone().detach().requires_grad_(True), rather than torch.tensor(sourceTensor).\n",
            "  imdb_train_labels = torch.tensor(imdb_train_labels, dtype=torch.long, device=device)\n",
            "/tmp/ipykernel_2286/4012133332.py:46: UserWarning: To copy construct from a tensor, it is recommended to use sourceTensor.clone().detach() or sourceTensor.clone().detach().requires_grad_(True), rather than torch.tensor(sourceTensor).\n",
            "  imdb_validation_labels = torch.tensor(imdb_validation_labels, dtype=torch.long, device = device)\n",
            "/tmp/ipykernel_2286/4012133332.py:30: UserWarning: To copy construct from a tensor, it is recommended to use sourceTensor.clone().detach() or sourceTensor.clone().detach().requires_grad_(True), rather than torch.tensor(sourceTensor).\n",
            "  imdb_train_labels = torch.tensor(imdb_train_labels, dtype=torch.long, device=device)\n",
            "/tmp/ipykernel_2286/4012133332.py:46: UserWarning: To copy construct from a tensor, it is recommended to use sourceTensor.clone().detach() or sourceTensor.clone().detach().requires_grad_(True), rather than torch.tensor(sourceTensor).\n",
            "  imdb_validation_labels = torch.tensor(imdb_validation_labels, dtype=torch.long, device = device)\n",
            "/tmp/ipykernel_2286/4012133332.py:30: UserWarning: To copy construct from a tensor, it is recommended to use sourceTensor.clone().detach() or sourceTensor.clone().detach().requires_grad_(True), rather than torch.tensor(sourceTensor).\n",
            "  imdb_train_labels = torch.tensor(imdb_train_labels, dtype=torch.long, device=device)\n",
            "/tmp/ipykernel_2286/4012133332.py:46: UserWarning: To copy construct from a tensor, it is recommended to use sourceTensor.clone().detach() or sourceTensor.clone().detach().requires_grad_(True), rather than torch.tensor(sourceTensor).\n",
            "  imdb_validation_labels = torch.tensor(imdb_validation_labels, dtype=torch.long, device = device)\n",
            "/tmp/ipykernel_2286/4012133332.py:30: UserWarning: To copy construct from a tensor, it is recommended to use sourceTensor.clone().detach() or sourceTensor.clone().detach().requires_grad_(True), rather than torch.tensor(sourceTensor).\n",
            "  imdb_train_labels = torch.tensor(imdb_train_labels, dtype=torch.long, device=device)\n",
            "/tmp/ipykernel_2286/4012133332.py:46: UserWarning: To copy construct from a tensor, it is recommended to use sourceTensor.clone().detach() or sourceTensor.clone().detach().requires_grad_(True), rather than torch.tensor(sourceTensor).\n",
            "  imdb_validation_labels = torch.tensor(imdb_validation_labels, dtype=torch.long, device = device)\n",
            "/tmp/ipykernel_2286/4012133332.py:30: UserWarning: To copy construct from a tensor, it is recommended to use sourceTensor.clone().detach() or sourceTensor.clone().detach().requires_grad_(True), rather than torch.tensor(sourceTensor).\n",
            "  imdb_train_labels = torch.tensor(imdb_train_labels, dtype=torch.long, device=device)\n",
            "/tmp/ipykernel_2286/4012133332.py:46: UserWarning: To copy construct from a tensor, it is recommended to use sourceTensor.clone().detach() or sourceTensor.clone().detach().requires_grad_(True), rather than torch.tensor(sourceTensor).\n",
            "  imdb_validation_labels = torch.tensor(imdb_validation_labels, dtype=torch.long, device = device)\n",
            "/tmp/ipykernel_2286/4012133332.py:30: UserWarning: To copy construct from a tensor, it is recommended to use sourceTensor.clone().detach() or sourceTensor.clone().detach().requires_grad_(True), rather than torch.tensor(sourceTensor).\n",
            "  imdb_train_labels = torch.tensor(imdb_train_labels, dtype=torch.long, device=device)\n",
            "/tmp/ipykernel_2286/4012133332.py:46: UserWarning: To copy construct from a tensor, it is recommended to use sourceTensor.clone().detach() or sourceTensor.clone().detach().requires_grad_(True), rather than torch.tensor(sourceTensor).\n",
            "  imdb_validation_labels = torch.tensor(imdb_validation_labels, dtype=torch.long, device = device)\n",
            "/tmp/ipykernel_2286/4012133332.py:30: UserWarning: To copy construct from a tensor, it is recommended to use sourceTensor.clone().detach() or sourceTensor.clone().detach().requires_grad_(True), rather than torch.tensor(sourceTensor).\n",
            "  imdb_train_labels = torch.tensor(imdb_train_labels, dtype=torch.long, device=device)\n",
            "/tmp/ipykernel_2286/4012133332.py:46: UserWarning: To copy construct from a tensor, it is recommended to use sourceTensor.clone().detach() or sourceTensor.clone().detach().requires_grad_(True), rather than torch.tensor(sourceTensor).\n",
            "  imdb_validation_labels = torch.tensor(imdb_validation_labels, dtype=torch.long, device = device)\n",
            "/tmp/ipykernel_2286/4012133332.py:30: UserWarning: To copy construct from a tensor, it is recommended to use sourceTensor.clone().detach() or sourceTensor.clone().detach().requires_grad_(True), rather than torch.tensor(sourceTensor).\n",
            "  imdb_train_labels = torch.tensor(imdb_train_labels, dtype=torch.long, device=device)\n",
            "/tmp/ipykernel_2286/4012133332.py:46: UserWarning: To copy construct from a tensor, it is recommended to use sourceTensor.clone().detach() or sourceTensor.clone().detach().requires_grad_(True), rather than torch.tensor(sourceTensor).\n",
            "  imdb_validation_labels = torch.tensor(imdb_validation_labels, dtype=torch.long, device = device)\n",
            "/tmp/ipykernel_2286/4012133332.py:30: UserWarning: To copy construct from a tensor, it is recommended to use sourceTensor.clone().detach() or sourceTensor.clone().detach().requires_grad_(True), rather than torch.tensor(sourceTensor).\n",
            "  imdb_train_labels = torch.tensor(imdb_train_labels, dtype=torch.long, device=device)\n",
            "/tmp/ipykernel_2286/4012133332.py:46: UserWarning: To copy construct from a tensor, it is recommended to use sourceTensor.clone().detach() or sourceTensor.clone().detach().requires_grad_(True), rather than torch.tensor(sourceTensor).\n",
            "  imdb_validation_labels = torch.tensor(imdb_validation_labels, dtype=torch.long, device = device)\n",
            "/tmp/ipykernel_2286/4012133332.py:30: UserWarning: To copy construct from a tensor, it is recommended to use sourceTensor.clone().detach() or sourceTensor.clone().detach().requires_grad_(True), rather than torch.tensor(sourceTensor).\n",
            "  imdb_train_labels = torch.tensor(imdb_train_labels, dtype=torch.long, device=device)\n",
            "/tmp/ipykernel_2286/4012133332.py:46: UserWarning: To copy construct from a tensor, it is recommended to use sourceTensor.clone().detach() or sourceTensor.clone().detach().requires_grad_(True), rather than torch.tensor(sourceTensor).\n",
            "  imdb_validation_labels = torch.tensor(imdb_validation_labels, dtype=torch.long, device = device)\n"
          ]
        }
      ],
      "source": [
        "#Load the best checkpoint\n",
        "model_loaded_embeddings = nn.Sequential(\n",
        "    nn.Linear(768, 512),nn.ReLU(),nn.Dropout(0.3), # input dimensions = embeddings dimension = 768\n",
        "    nn.Linear(512, 256),nn.ReLU(),nn.Dropout(0.3),\n",
        "    nn.Linear(256, 128),nn.ReLU(),nn.Dropout(0.3),\n",
        "    nn.Linear(128, 64),nn.ReLU(),nn.Dropout(0.3),\n",
        "    nn.Linear(64, 2)  # No activation for final layer (assumes logits for classification)\n",
        ")\n",
        "model_loaded_embeddings.load_state_dict(torch.load(\"best_model_embeddings.pth\"))\n",
        "\n",
        "criterion = nn.CrossEntropyLoss()\n",
        "optimizer = torch.optim.Adam(model_loaded_embeddings.parameters(), lr=0.0001)  # Smaller learning rate\n",
        "n_epochs = 10\n",
        "\n",
        "train_loss = []\n",
        "train_acc = []\n",
        "val_loss = []\n",
        "val_acc = []\n",
        "\n",
        "for epoch in range(n_epochs):\n",
        "    model_loaded_embeddings.train()\n",
        "    optimizer.zero_grad()\n",
        "\n",
        "    device = torch.device(\"cuda\" if torch.cuda.is_available() else \"cpu\")\n",
        "    model_loaded_embeddings.to(device)\n",
        "\n",
        "    imdb_train_corpus_embeddings = imdb_train_corpus_embeddings.to(device)\n",
        "\n",
        "    logits = model_loaded_embeddings(imdb_train_corpus_embeddings)\n",
        "    imdb_train_labels = torch.tensor(imdb_train_labels, dtype=torch.long, device=device)\n",
        "    loss = loss_func(logits, imdb_train_labels)\n",
        "    loss.backward()\n",
        "    optimizer.step()\n",
        "\n",
        "    # Tracking training loss\n",
        "    train_loss.append(loss.item())\n",
        "    train_accuracy = accuracy_score(imdb_train_labels.cpu().numpy(), torch.argmax(logits, dim=1).cpu().numpy())\n",
        "    train_acc.append(train_accuracy)\n",
        "    print(f'Epoch {epoch+1}/{n_epochs}')\n",
        "    print(f'Train Loss: {loss.item()} Train Accuracy : {train_accuracy}')\n",
        "\n",
        "    # Tracking validation loss\n",
        "    model_loaded_embeddings.eval()\n",
        "    with torch.no_grad():\n",
        "        logits_val = model_loaded_embeddings(imdb_validation_corpus_embeddings)\n",
        "        imdb_validation_labels = torch.tensor(imdb_validation_labels, dtype=torch.long, device = device)\n",
        "        loss_val = loss_func(logits_val, imdb_validation_labels)\n",
        "\n",
        "    val_loss.append(loss_val.item())\n",
        "    val_accuracy = accuracy_score(imdb_validation_labels.cpu().numpy(), torch.argmax(logits_val, dim=1).cpu().numpy())\n",
        "    val_acc.append(val_accuracy)\n",
        "\n",
        "\n",
        "    writer.add_scalar(\"Loss/Train\", loss.item(), epoch)\n",
        "    writer.add_scalar(\"Loss/Validation\", loss_val.item(), epoch)\n",
        "    writer.add_scalar(\"Accuracy/Train\", train_accuracy, epoch)\n",
        "    writer.add_scalar(\"Accuracy/Validation\", val_accuracy, epoch)\n",
        "    \n",
        "    print(f'Validation Loss: {loss_val.item()} Validation Accuracy : {val_accuracy}')"
      ]
    },
    {
      "cell_type": "code",
      "execution_count": 162,
      "metadata": {
        "id": "1nhZQNhulJd4"
      },
      "outputs": [
        {
          "name": "stdout",
          "output_type": "stream",
          "text": [
            "FINAL EVALUATION METRICS FOR EMBEDDINGS\n",
            "Train Loss: 0.4785939157009125 | Train Accuracy : 0.809625\n",
            "Validation Loss: 0.44071438908576965 | Validation Accuracy : 0.833875\n",
            "\n"
          ]
        },
        {
          "data": {
            "image/png": "[encoded data removed]",
            "text/plain": [
              "<Figure size 640x480 with 1 Axes>"
            ]
          },
          "metadata": {},
          "output_type": "display_data"
        },
        {
          "data": {
            "image/png": "[encoded data removed]",
            "text/plain": [
              "<Figure size 640x480 with 1 Axes>"
            ]
          },
          "metadata": {},
          "output_type": "display_data"
        },
        {
          "name": "stdout",
          "output_type": "stream",
          "text": [
            "\n",
            "CONFUSION MATRIX FOR VALIDATION DATASET FOR IMDB DATASET\n"
          ]
        },
        {
          "data": {
            "image/png": "[encoded data removed]",
            "text/plain": [
              "<Figure size 600x500 with 2 Axes>"
            ]
          },
          "metadata": {},
          "output_type": "display_data"
        }
      ],
      "source": [
        "#Final Evaluation Metrics\n",
        "model_loaded_embeddings.eval()\n",
        "print(\"FINAL EVALUATION METRICS FOR EMBEDDINGS\")\n",
        "print(f'Train Loss: {train_loss[-1]} | Train Accuracy : {train_acc[-1]}')\n",
        "print(f'Validation Loss: {val_loss[-1]} | Validation Accuracy : {val_acc[-1]}')\n",
        "print()\n",
        "\n",
        "#Plot the accuracy and validation curves\n",
        "import matplotlib.pyplot as plt\n",
        "plt.plot(train_acc, label='Training Accuracy', color = 'r')\n",
        "plt.plot(val_acc, label='Validation Accuracy', color = 'b')\n",
        "plt.xlabel('Epochs')\n",
        "plt.ylabel('Accuracy')\n",
        "plt.title(\"Accuracy Curve for IMDB Dataset\")\n",
        "plt.legend()\n",
        "plt.show()\n",
        "\n",
        "plt.plot(train_loss, label='Training Loss', color = 'r')\n",
        "plt.plot(val_loss, label='Validation Loss', color = 'b')\n",
        "plt.xlabel('Epochs')\n",
        "plt.ylabel('Loss')\n",
        "plt.title(\"Loss Curve for IMDB Dataset\")\n",
        "plt.legend()\n",
        "plt.show()\n",
        "\n",
        "#Plot the confusion matrix\n",
        "from sklearn.metrics import confusion_matrix\n",
        "import seaborn as sns\n",
        "\n",
        "print(\"\\nCONFUSION MATRIX FOR VALIDATION DATASET FOR IMDB DATASET\")\n",
        "logits_val = model_loaded_embeddings(imdb_validation_corpus_embeddings)\n",
        "confusion_mat = confusion_matrix(imdb_validation_labels.cpu().numpy(), torch.argmax(logits_val, dim=1).cpu().numpy())\n",
        "# print(f'Confusion Matrix: \\n{confusion_mat}')\n",
        "class_labels = ['0' ,'1']\n",
        "plt.figure(figsize=(6, 5))\n",
        "sns.heatmap(confusion_mat, annot=True, fmt='d', cmap='Blues',\n",
        "            xticklabels=class_labels, yticklabels=class_labels)\n",
        "\n",
        "plt.xlabel('Predicted Labels')\n",
        "plt.ylabel('True Labels')\n",
        "plt.title('Confusion Matrix for IMDB Dataset')\n",
        "plt.show()"
      ]
    },
    {
      "cell_type": "code",
      "execution_count": 164,
      "metadata": {},
      "outputs": [],
      "source": [
        "%reload_ext tensorboard\n"
      ]
    },
    {
      "cell_type": "code",
      "execution_count": 165,
      "metadata": {},
      "outputs": [],
      "source": [
        "!kill 62159"
      ]
    },
    {
      "cell_type": "code",
      "execution_count": 166,
      "metadata": {},
      "outputs": [
        {
          "name": "stdout",
          "output_type": "stream",
          "text": [
            "The tensorboard extension is already loaded. To reload it, use:\n",
            "  %reload_ext tensorboard\n"
          ]
        },
        {
          "data": {
            "text/html": [
              "\n",
              "      <iframe id=\"tensorboard-frame-85e6d57b91738ef4\" width=\"100%\" height=\"800\" frameborder=\"0\">\n",
              "      </iframe>\n",
              "      <script>\n",
              "        (function() {\n",
              "          const frame = document.getElementById(\"tensorboard-frame-85e6d57b91738ef4\");\n",
              "          const url = new URL(\"/\", window.location);\n",
              "          const port = 6006;\n",
              "          if (port) {\n",
              "            url.port = port;\n",
              "          }\n",
              "          frame.src = url;\n",
              "        })();\n",
              "      </script>\n",
              "    "
            ],
            "text/plain": [
              "<IPython.core.display.HTML object>"
            ]
          },
          "metadata": {},
          "output_type": "display_data"
        }
      ],
      "source": [
        "%load_ext tensorboard\n",
        "%tensorboard --logdir runs"
      ]
    },
    {
      "cell_type": "code",
      "execution_count": null,
      "metadata": {},
      "outputs": [],
      "source": []
    }
  ],
  "metadata": {
    "accelerator": "GPU",
    "colab": {
      "gpuType": "T4",
      "provenance": []
    },
    "kernelspec": {
      "display_name": "Python 3",
      "name": "python3"
    },
    "language_info": {
      "name": "python"
    },
    "widgets": {
      "application/vnd.jupyter.widget-state+json": {
        "0d50d5c4ee95442ba911e89ce706c5dc": {
          "model_module": "@jupyter-widgets/controls",
          "model_module_version": "1.5.0",
          "model_name": "DescriptionStyleModel",
          "state": {
            "_model_module": "@jupyter-widgets/controls",
            "_model_module_version": "1.5.0",
            "_model_name": "DescriptionStyleModel",
            "_view_count": null,
            "_view_module": "@jupyter-widgets/base",
            "_view_module_version": "1.2.0",
            "_view_name": "StyleView",
            "description_width": ""
          }
        },
        "10536907d9b2477aac7e59df85a40fd3": {
          "model_module": "@jupyter-widgets/controls",
          "model_module_version": "1.5.0",
          "model_name": "HBoxModel",
          "state": {
            "_dom_classes": [],
            "_model_module": "@jupyter-widgets/controls",
            "_model_module_version": "1.5.0",
            "_model_name": "HBoxModel",
            "_view_count": null,
            "_view_module": "@jupyter-widgets/controls",
            "_view_module_version": "1.5.0",
            "_view_name": "HBoxView",
            "box_style": "",
            "children": [
              "IPY_MODEL_2028af93a7e8414e85aeeea9351bf08d",
              "IPY_MODEL_ec3f5ca598e04d3490555095221cc4bf",
              "IPY_MODEL_6543f06b2deb4c4397a1be9da9e37488"
            ],
            "layout": "IPY_MODEL_b9cc60b422e64cfcb4875622f7d65e5c"
          }
        },
        "17496ce3b425437484a211a24b428d68": {
          "model_module": "@jupyter-widgets/base",
          "model_module_version": "1.2.0",
          "model_name": "LayoutModel",
          "state": {
            "_model_module": "@jupyter-widgets/base",
            "_model_module_version": "1.2.0",
            "_model_name": "LayoutModel",
            "_view_count": null,
            "_view_module": "@jupyter-widgets/base",
            "_view_module_version": "1.2.0",
            "_view_name": "LayoutView",
            "align_content": null,
            "align_items": null,
            "align_self": null,
            "border": null,
            "bottom": null,
            "display": null,
            "flex": null,
            "flex_flow": null,
            "grid_area": null,
            "grid_auto_columns": null,
            "grid_auto_flow": null,
            "grid_auto_rows": null,
            "grid_column": null,
            "grid_gap": null,
            "grid_row": null,
            "grid_template_areas": null,
            "grid_template_columns": null,
            "grid_template_rows": null,
            "height": null,
            "justify_content": null,
            "justify_items": null,
            "left": null,
            "margin": null,
            "max_height": null,
            "max_width": null,
            "min_height": null,
            "min_width": null,
            "object_fit": null,
            "object_position": null,
            "order": null,
            "overflow": null,
            "overflow_x": null,
            "overflow_y": null,
            "padding": null,
            "right": null,
            "top": null,
            "visibility": null,
            "width": null
          }
        },
        "1c963a9b1d004453ab00a04464b63cb9": {
          "model_module": "@jupyter-widgets/controls",
          "model_module_version": "1.5.0",
          "model_name": "FloatProgressModel",
          "state": {
            "_dom_classes": [],
            "_model_module": "@jupyter-widgets/controls",
            "_model_module_version": "1.5.0",
            "_model_name": "FloatProgressModel",
            "_view_count": null,
            "_view_module": "@jupyter-widgets/controls",
            "_view_module_version": "1.5.0",
            "_view_name": "ProgressView",
            "bar_style": "success",
            "description": "",
            "description_tooltip": null,
            "layout": "IPY_MODEL_69ab2dbb878343558831f1e756351393",
            "max": 440449768,
            "min": 0,
            "orientation": "horizontal",
            "style": "IPY_MODEL_3f58ec04182c4960ab5a9e3deab63d50",
            "value": 440449768
          }
        },
        "1d06f34fde054726bdd4881681163303": {
          "model_module": "@jupyter-widgets/controls",
          "model_module_version": "1.5.0",
          "model_name": "HBoxModel",
          "state": {
            "_dom_classes": [],
            "_model_module": "@jupyter-widgets/controls",
            "_model_module_version": "1.5.0",
            "_model_name": "HBoxModel",
            "_view_count": null,
            "_view_module": "@jupyter-widgets/controls",
            "_view_module_version": "1.5.0",
            "_view_name": "HBoxView",
            "box_style": "",
            "children": [
              "IPY_MODEL_d725b0a2931d4768a89d87f0592a441d",
              "IPY_MODEL_af7d9e8da76642d88e6996590ddcfc71",
              "IPY_MODEL_5ac93ab327394a4fa3d49468713e1da0"
            ],
            "layout": "IPY_MODEL_4526a652a4fa4d239885a6543debbb5a"
          }
        },
        "1fdab3be80b24099b41649148589b298": {
          "model_module": "@jupyter-widgets/controls",
          "model_module_version": "1.5.0",
          "model_name": "HTMLModel",
          "state": {
            "_dom_classes": [],
            "_model_module": "@jupyter-widgets/controls",
            "_model_module_version": "1.5.0",
            "_model_name": "HTMLModel",
            "_view_count": null,
            "_view_module": "@jupyter-widgets/controls",
            "_view_module_version": "1.5.0",
            "_view_name": "HTMLView",
            "description": "",
            "description_tooltip": null,
            "layout": "IPY_MODEL_5aeed1e558ce4788a7cbd084ea2e1994",
            "placeholder": "​",
            "style": "IPY_MODEL_80b8ad7aed7d4936802a97bc6556c135",
            "value": "model.safetensors: 100%"
          }
        },
        "2028af93a7e8414e85aeeea9351bf08d": {
          "model_module": "@jupyter-widgets/controls",
          "model_module_version": "1.5.0",
          "model_name": "HTMLModel",
          "state": {
            "_dom_classes": [],
            "_model_module": "@jupyter-widgets/controls",
            "_model_module_version": "1.5.0",
            "_model_name": "HTMLModel",
            "_view_count": null,
            "_view_module": "@jupyter-widgets/controls",
            "_view_module_version": "1.5.0",
            "_view_name": "HTMLView",
            "description": "",
            "description_tooltip": null,
            "layout": "IPY_MODEL_a2d5a89d389e445eb8c5500f80ae1259",
            "placeholder": "​",
            "style": "IPY_MODEL_5786941da005445d8360b879ed3ce24c",
            "value": "tokenizer.json: 100%"
          }
        },
        "2d9e61399cdd45508d3a36aa266e9bf8": {
          "model_module": "@jupyter-widgets/base",
          "model_module_version": "1.2.0",
          "model_name": "LayoutModel",
          "state": {
            "_model_module": "@jupyter-widgets/base",
            "_model_module_version": "1.2.0",
            "_model_name": "LayoutModel",
            "_view_count": null,
            "_view_module": "@jupyter-widgets/base",
            "_view_module_version": "1.2.0",
            "_view_name": "LayoutView",
            "align_content": null,
            "align_items": null,
            "align_self": null,
            "border": null,
            "bottom": null,
            "display": null,
            "flex": null,
            "flex_flow": null,
            "grid_area": null,
            "grid_auto_columns": null,
            "grid_auto_flow": null,
            "grid_auto_rows": null,
            "grid_column": null,
            "grid_gap": null,
            "grid_row": null,
            "grid_template_areas": null,
            "grid_template_columns": null,
            "grid_template_rows": null,
            "height": null,
            "justify_content": null,
            "justify_items": null,
            "left": null,
            "margin": null,
            "max_height": null,
            "max_width": null,
            "min_height": null,
            "min_width": null,
            "object_fit": null,
            "object_position": null,
            "order": null,
            "overflow": null,
            "overflow_x": null,
            "overflow_y": null,
            "padding": null,
            "right": null,
            "top": null,
            "visibility": null,
            "width": null
          }
        },
        "36990e2a5bf7435a882da705a428d9aa": {
          "model_module": "@jupyter-widgets/base",
          "model_module_version": "1.2.0",
          "model_name": "LayoutModel",
          "state": {
            "_model_module": "@jupyter-widgets/base",
            "_model_module_version": "1.2.0",
            "_model_name": "LayoutModel",
            "_view_count": null,
            "_view_module": "@jupyter-widgets/base",
            "_view_module_version": "1.2.0",
            "_view_name": "LayoutView",
            "align_content": null,
            "align_items": null,
            "align_self": null,
            "border": null,
            "bottom": null,
            "display": null,
            "flex": null,
            "flex_flow": null,
            "grid_area": null,
            "grid_auto_columns": null,
            "grid_auto_flow": null,
            "grid_auto_rows": null,
            "grid_column": null,
            "grid_gap": null,
            "grid_row": null,
            "grid_template_areas": null,
            "grid_template_columns": null,
            "grid_template_rows": null,
            "height": null,
            "justify_content": null,
            "justify_items": null,
            "left": null,
            "margin": null,
            "max_height": null,
            "max_width": null,
            "min_height": null,
            "min_width": null,
            "object_fit": null,
            "object_position": null,
            "order": null,
            "overflow": null,
            "overflow_x": null,
            "overflow_y": null,
            "padding": null,
            "right": null,
            "top": null,
            "visibility": null,
            "width": null
          }
        },
        "388223d867634c888158c6bd96455ad2": {
          "model_module": "@jupyter-widgets/controls",
          "model_module_version": "1.5.0",
          "model_name": "HBoxModel",
          "state": {
            "_dom_classes": [],
            "_model_module": "@jupyter-widgets/controls",
            "_model_module_version": "1.5.0",
            "_model_name": "HBoxModel",
            "_view_count": null,
            "_view_module": "@jupyter-widgets/controls",
            "_view_module_version": "1.5.0",
            "_view_name": "HBoxView",
            "box_style": "",
            "children": [
              "IPY_MODEL_63144ea405b5458ea1a78e08d13f23a4",
              "IPY_MODEL_c3d1dd1dc7fc41f5a63109315510638f",
              "IPY_MODEL_c6ca4a9f364c4feb944625bb4335d7d5"
            ],
            "layout": "IPY_MODEL_f93bd2072cb54bcb93289fab8d1fe660"
          }
        },
        "3f58ec04182c4960ab5a9e3deab63d50": {
          "model_module": "@jupyter-widgets/controls",
          "model_module_version": "1.5.0",
          "model_name": "ProgressStyleModel",
          "state": {
            "_model_module": "@jupyter-widgets/controls",
            "_model_module_version": "1.5.0",
            "_model_name": "ProgressStyleModel",
            "_view_count": null,
            "_view_module": "@jupyter-widgets/base",
            "_view_module_version": "1.2.0",
            "_view_name": "StyleView",
            "bar_color": null,
            "description_width": ""
          }
        },
        "4526a652a4fa4d239885a6543debbb5a": {
          "model_module": "@jupyter-widgets/base",
          "model_module_version": "1.2.0",
          "model_name": "LayoutModel",
          "state": {
            "_model_module": "@jupyter-widgets/base",
            "_model_module_version": "1.2.0",
            "_model_name": "LayoutModel",
            "_view_count": null,
            "_view_module": "@jupyter-widgets/base",
            "_view_module_version": "1.2.0",
            "_view_name": "LayoutView",
            "align_content": null,
            "align_items": null,
            "align_self": null,
            "border": null,
            "bottom": null,
            "display": null,
            "flex": null,
            "flex_flow": null,
            "grid_area": null,
            "grid_auto_columns": null,
            "grid_auto_flow": null,
            "grid_auto_rows": null,
            "grid_column": null,
            "grid_gap": null,
            "grid_row": null,
            "grid_template_areas": null,
            "grid_template_columns": null,
            "grid_template_rows": null,
            "height": null,
            "justify_content": null,
            "justify_items": null,
            "left": null,
            "margin": null,
            "max_height": null,
            "max_width": null,
            "min_height": null,
            "min_width": null,
            "object_fit": null,
            "object_position": null,
            "order": null,
            "overflow": null,
            "overflow_x": null,
            "overflow_y": null,
            "padding": null,
            "right": null,
            "top": null,
            "visibility": null,
            "width": null
          }
        },
        "4ab803dd96df43158c7794441ddb8867": {
          "model_module": "@jupyter-widgets/base",
          "model_module_version": "1.2.0",
          "model_name": "LayoutModel",
          "state": {
            "_model_module": "@jupyter-widgets/base",
            "_model_module_version": "1.2.0",
            "_model_name": "LayoutModel",
            "_view_count": null,
            "_view_module": "@jupyter-widgets/base",
            "_view_module_version": "1.2.0",
            "_view_name": "LayoutView",
            "align_content": null,
            "align_items": null,
            "align_self": null,
            "border": null,
            "bottom": null,
            "display": null,
            "flex": null,
            "flex_flow": null,
            "grid_area": null,
            "grid_auto_columns": null,
            "grid_auto_flow": null,
            "grid_auto_rows": null,
            "grid_column": null,
            "grid_gap": null,
            "grid_row": null,
            "grid_template_areas": null,
            "grid_template_columns": null,
            "grid_template_rows": null,
            "height": null,
            "justify_content": null,
            "justify_items": null,
            "left": null,
            "margin": null,
            "max_height": null,
            "max_width": null,
            "min_height": null,
            "min_width": null,
            "object_fit": null,
            "object_position": null,
            "order": null,
            "overflow": null,
            "overflow_x": null,
            "overflow_y": null,
            "padding": null,
            "right": null,
            "top": null,
            "visibility": null,
            "width": null
          }
        },
        "4ff93480c8fd445595159b3644b84b9a": {
          "model_module": "@jupyter-widgets/controls",
          "model_module_version": "1.5.0",
          "model_name": "ProgressStyleModel",
          "state": {
            "_model_module": "@jupyter-widgets/controls",
            "_model_module_version": "1.5.0",
            "_model_name": "ProgressStyleModel",
            "_view_count": null,
            "_view_module": "@jupyter-widgets/base",
            "_view_module_version": "1.2.0",
            "_view_name": "StyleView",
            "bar_color": null,
            "description_width": ""
          }
        },
        "575b8a48432846878415ca4e73d41c8a": {
          "model_module": "@jupyter-widgets/controls",
          "model_module_version": "1.5.0",
          "model_name": "ProgressStyleModel",
          "state": {
            "_model_module": "@jupyter-widgets/controls",
            "_model_module_version": "1.5.0",
            "_model_name": "ProgressStyleModel",
            "_view_count": null,
            "_view_module": "@jupyter-widgets/base",
            "_view_module_version": "1.2.0",
            "_view_name": "StyleView",
            "bar_color": null,
            "description_width": ""
          }
        },
        "5786941da005445d8360b879ed3ce24c": {
          "model_module": "@jupyter-widgets/controls",
          "model_module_version": "1.5.0",
          "model_name": "DescriptionStyleModel",
          "state": {
            "_model_module": "@jupyter-widgets/controls",
            "_model_module_version": "1.5.0",
            "_model_name": "DescriptionStyleModel",
            "_view_count": null,
            "_view_module": "@jupyter-widgets/base",
            "_view_module_version": "1.2.0",
            "_view_name": "StyleView",
            "description_width": ""
          }
        },
        "5ac93ab327394a4fa3d49468713e1da0": {
          "model_module": "@jupyter-widgets/controls",
          "model_module_version": "1.5.0",
          "model_name": "HTMLModel",
          "state": {
            "_dom_classes": [],
            "_model_module": "@jupyter-widgets/controls",
            "_model_module_version": "1.5.0",
            "_model_name": "HTMLModel",
            "_view_count": null,
            "_view_module": "@jupyter-widgets/controls",
            "_view_module_version": "1.5.0",
            "_view_name": "HTMLView",
            "description": "",
            "description_tooltip": null,
            "layout": "IPY_MODEL_70a828a3f6cc4f4689c43c165a4b397b",
            "placeholder": "​",
            "style": "IPY_MODEL_8bdc50241eb84faaa4c8da8d67424461",
            "value": " 48.0/48.0 [00:00&lt;00:00, 3.29kB/s]"
          }
        },
        "5aeed1e558ce4788a7cbd084ea2e1994": {
          "model_module": "@jupyter-widgets/base",
          "model_module_version": "1.2.0",
          "model_name": "LayoutModel",
          "state": {
            "_model_module": "@jupyter-widgets/base",
            "_model_module_version": "1.2.0",
            "_model_name": "LayoutModel",
            "_view_count": null,
            "_view_module": "@jupyter-widgets/base",
            "_view_module_version": "1.2.0",
            "_view_name": "LayoutView",
            "align_content": null,
            "align_items": null,
            "align_self": null,
            "border": null,
            "bottom": null,
            "display": null,
            "flex": null,
            "flex_flow": null,
            "grid_area": null,
            "grid_auto_columns": null,
            "grid_auto_flow": null,
            "grid_auto_rows": null,
            "grid_column": null,
            "grid_gap": null,
            "grid_row": null,
            "grid_template_areas": null,
            "grid_template_columns": null,
            "grid_template_rows": null,
            "height": null,
            "justify_content": null,
            "justify_items": null,
            "left": null,
            "margin": null,
            "max_height": null,
            "max_width": null,
            "min_height": null,
            "min_width": null,
            "object_fit": null,
            "object_position": null,
            "order": null,
            "overflow": null,
            "overflow_x": null,
            "overflow_y": null,
            "padding": null,
            "right": null,
            "top": null,
            "visibility": null,
            "width": null
          }
        },
        "621322e26e0f400d99f44bb9b9506268": {
          "model_module": "@jupyter-widgets/controls",
          "model_module_version": "1.5.0",
          "model_name": "HBoxModel",
          "state": {
            "_dom_classes": [],
            "_model_module": "@jupyter-widgets/controls",
            "_model_module_version": "1.5.0",
            "_model_name": "HBoxModel",
            "_view_count": null,
            "_view_module": "@jupyter-widgets/controls",
            "_view_module_version": "1.5.0",
            "_view_name": "HBoxView",
            "box_style": "",
            "children": [
              "IPY_MODEL_89d88f50f1fc4fde8da47b67924aad32",
              "IPY_MODEL_79503e52fe8d4e8285e065a851424775",
              "IPY_MODEL_c6dee85510d541a38eb509393766bcf4"
            ],
            "layout": "IPY_MODEL_baf0a03a9ce94deba0a5197638f2a709"
          }
        },
        "63144ea405b5458ea1a78e08d13f23a4": {
          "model_module": "@jupyter-widgets/controls",
          "model_module_version": "1.5.0",
          "model_name": "HTMLModel",
          "state": {
            "_dom_classes": [],
            "_model_module": "@jupyter-widgets/controls",
            "_model_module_version": "1.5.0",
            "_model_name": "HTMLModel",
            "_view_count": null,
            "_view_module": "@jupyter-widgets/controls",
            "_view_module_version": "1.5.0",
            "_view_name": "HTMLView",
            "description": "",
            "description_tooltip": null,
            "layout": "IPY_MODEL_17496ce3b425437484a211a24b428d68",
            "placeholder": "​",
            "style": "IPY_MODEL_7b8dffba15b2462fa1286ec6a314f9f7",
            "value": "vocab.txt: 100%"
          }
        },
        "6543f06b2deb4c4397a1be9da9e37488": {
          "model_module": "@jupyter-widgets/controls",
          "model_module_version": "1.5.0",
          "model_name": "HTMLModel",
          "state": {
            "_dom_classes": [],
            "_model_module": "@jupyter-widgets/controls",
            "_model_module_version": "1.5.0",
            "_model_name": "HTMLModel",
            "_view_count": null,
            "_view_module": "@jupyter-widgets/controls",
            "_view_module_version": "1.5.0",
            "_view_name": "HTMLView",
            "description": "",
            "description_tooltip": null,
            "layout": "IPY_MODEL_9edb3b6daa6f4993a60dba35ba4e5b7a",
            "placeholder": "​",
            "style": "IPY_MODEL_94832b68a5564dbdac5df5f825956c2e",
            "value": " 466k/466k [00:00&lt;00:00, 15.5MB/s]"
          }
        },
        "67a26a0a76394b6f876e6916d23505d7": {
          "model_module": "@jupyter-widgets/controls",
          "model_module_version": "1.5.0",
          "model_name": "HTMLModel",
          "state": {
            "_dom_classes": [],
            "_model_module": "@jupyter-widgets/controls",
            "_model_module_version": "1.5.0",
            "_model_name": "HTMLModel",
            "_view_count": null,
            "_view_module": "@jupyter-widgets/controls",
            "_view_module_version": "1.5.0",
            "_view_name": "HTMLView",
            "description": "",
            "description_tooltip": null,
            "layout": "IPY_MODEL_2d9e61399cdd45508d3a36aa266e9bf8",
            "placeholder": "​",
            "style": "IPY_MODEL_0d50d5c4ee95442ba911e89ce706c5dc",
            "value": " 440M/440M [00:04&lt;00:00, 82.4MB/s]"
          }
        },
        "69ab2dbb878343558831f1e756351393": {
          "model_module": "@jupyter-widgets/base",
          "model_module_version": "1.2.0",
          "model_name": "LayoutModel",
          "state": {
            "_model_module": "@jupyter-widgets/base",
            "_model_module_version": "1.2.0",
            "_model_name": "LayoutModel",
            "_view_count": null,
            "_view_module": "@jupyter-widgets/base",
            "_view_module_version": "1.2.0",
            "_view_name": "LayoutView",
            "align_content": null,
            "align_items": null,
            "align_self": null,
            "border": null,
            "bottom": null,
            "display": null,
            "flex": null,
            "flex_flow": null,
            "grid_area": null,
            "grid_auto_columns": null,
            "grid_auto_flow": null,
            "grid_auto_rows": null,
            "grid_column": null,
            "grid_gap": null,
            "grid_row": null,
            "grid_template_areas": null,
            "grid_template_columns": null,
            "grid_template_rows": null,
            "height": null,
            "justify_content": null,
            "justify_items": null,
            "left": null,
            "margin": null,
            "max_height": null,
            "max_width": null,
            "min_height": null,
            "min_width": null,
            "object_fit": null,
            "object_position": null,
            "order": null,
            "overflow": null,
            "overflow_x": null,
            "overflow_y": null,
            "padding": null,
            "right": null,
            "top": null,
            "visibility": null,
            "width": null
          }
        },
        "6a8065b462874dff971f11cdebc9f76c": {
          "model_module": "@jupyter-widgets/base",
          "model_module_version": "1.2.0",
          "model_name": "LayoutModel",
          "state": {
            "_model_module": "@jupyter-widgets/base",
            "_model_module_version": "1.2.0",
            "_model_name": "LayoutModel",
            "_view_count": null,
            "_view_module": "@jupyter-widgets/base",
            "_view_module_version": "1.2.0",
            "_view_name": "LayoutView",
            "align_content": null,
            "align_items": null,
            "align_self": null,
            "border": null,
            "bottom": null,
            "display": null,
            "flex": null,
            "flex_flow": null,
            "grid_area": null,
            "grid_auto_columns": null,
            "grid_auto_flow": null,
            "grid_auto_rows": null,
            "grid_column": null,
            "grid_gap": null,
            "grid_row": null,
            "grid_template_areas": null,
            "grid_template_columns": null,
            "grid_template_rows": null,
            "height": null,
            "justify_content": null,
            "justify_items": null,
            "left": null,
            "margin": null,
            "max_height": null,
            "max_width": null,
            "min_height": null,
            "min_width": null,
            "object_fit": null,
            "object_position": null,
            "order": null,
            "overflow": null,
            "overflow_x": null,
            "overflow_y": null,
            "padding": null,
            "right": null,
            "top": null,
            "visibility": null,
            "width": null
          }
        },
        "6a80f70f696340708d779b92c18885ea": {
          "model_module": "@jupyter-widgets/controls",
          "model_module_version": "1.5.0",
          "model_name": "DescriptionStyleModel",
          "state": {
            "_model_module": "@jupyter-widgets/controls",
            "_model_module_version": "1.5.0",
            "_model_name": "DescriptionStyleModel",
            "_view_count": null,
            "_view_module": "@jupyter-widgets/base",
            "_view_module_version": "1.2.0",
            "_view_name": "StyleView",
            "description_width": ""
          }
        },
        "70a828a3f6cc4f4689c43c165a4b397b": {
          "model_module": "@jupyter-widgets/base",
          "model_module_version": "1.2.0",
          "model_name": "LayoutModel",
          "state": {
            "_model_module": "@jupyter-widgets/base",
            "_model_module_version": "1.2.0",
            "_model_name": "LayoutModel",
            "_view_count": null,
            "_view_module": "@jupyter-widgets/base",
            "_view_module_version": "1.2.0",
            "_view_name": "LayoutView",
            "align_content": null,
            "align_items": null,
            "align_self": null,
            "border": null,
            "bottom": null,
            "display": null,
            "flex": null,
            "flex_flow": null,
            "grid_area": null,
            "grid_auto_columns": null,
            "grid_auto_flow": null,
            "grid_auto_rows": null,
            "grid_column": null,
            "grid_gap": null,
            "grid_row": null,
            "grid_template_areas": null,
            "grid_template_columns": null,
            "grid_template_rows": null,
            "height": null,
            "justify_content": null,
            "justify_items": null,
            "left": null,
            "margin": null,
            "max_height": null,
            "max_width": null,
            "min_height": null,
            "min_width": null,
            "object_fit": null,
            "object_position": null,
            "order": null,
            "overflow": null,
            "overflow_x": null,
            "overflow_y": null,
            "padding": null,
            "right": null,
            "top": null,
            "visibility": null,
            "width": null
          }
        },
        "79503e52fe8d4e8285e065a851424775": {
          "model_module": "@jupyter-widgets/controls",
          "model_module_version": "1.5.0",
          "model_name": "FloatProgressModel",
          "state": {
            "_dom_classes": [],
            "_model_module": "@jupyter-widgets/controls",
            "_model_module_version": "1.5.0",
            "_model_name": "FloatProgressModel",
            "_view_count": null,
            "_view_module": "@jupyter-widgets/controls",
            "_view_module_version": "1.5.0",
            "_view_name": "ProgressView",
            "bar_style": "success",
            "description": "",
            "description_tooltip": null,
            "layout": "IPY_MODEL_36990e2a5bf7435a882da705a428d9aa",
            "max": 570,
            "min": 0,
            "orientation": "horizontal",
            "style": "IPY_MODEL_575b8a48432846878415ca4e73d41c8a",
            "value": 570
          }
        },
        "7b8dffba15b2462fa1286ec6a314f9f7": {
          "model_module": "@jupyter-widgets/controls",
          "model_module_version": "1.5.0",
          "model_name": "DescriptionStyleModel",
          "state": {
            "_model_module": "@jupyter-widgets/controls",
            "_model_module_version": "1.5.0",
            "_model_name": "DescriptionStyleModel",
            "_view_count": null,
            "_view_module": "@jupyter-widgets/base",
            "_view_module_version": "1.2.0",
            "_view_name": "StyleView",
            "description_width": ""
          }
        },
        "7d6b33fe99d64e3b9580b165abe00a86": {
          "model_module": "@jupyter-widgets/base",
          "model_module_version": "1.2.0",
          "model_name": "LayoutModel",
          "state": {
            "_model_module": "@jupyter-widgets/base",
            "_model_module_version": "1.2.0",
            "_model_name": "LayoutModel",
            "_view_count": null,
            "_view_module": "@jupyter-widgets/base",
            "_view_module_version": "1.2.0",
            "_view_name": "LayoutView",
            "align_content": null,
            "align_items": null,
            "align_self": null,
            "border": null,
            "bottom": null,
            "display": null,
            "flex": null,
            "flex_flow": null,
            "grid_area": null,
            "grid_auto_columns": null,
            "grid_auto_flow": null,
            "grid_auto_rows": null,
            "grid_column": null,
            "grid_gap": null,
            "grid_row": null,
            "grid_template_areas": null,
            "grid_template_columns": null,
            "grid_template_rows": null,
            "height": null,
            "justify_content": null,
            "justify_items": null,
            "left": null,
            "margin": null,
            "max_height": null,
            "max_width": null,
            "min_height": null,
            "min_width": null,
            "object_fit": null,
            "object_position": null,
            "order": null,
            "overflow": null,
            "overflow_x": null,
            "overflow_y": null,
            "padding": null,
            "right": null,
            "top": null,
            "visibility": null,
            "width": null
          }
        },
        "80b8ad7aed7d4936802a97bc6556c135": {
          "model_module": "@jupyter-widgets/controls",
          "model_module_version": "1.5.0",
          "model_name": "DescriptionStyleModel",
          "state": {
            "_model_module": "@jupyter-widgets/controls",
            "_model_module_version": "1.5.0",
            "_model_name": "DescriptionStyleModel",
            "_view_count": null,
            "_view_module": "@jupyter-widgets/base",
            "_view_module_version": "1.2.0",
            "_view_name": "StyleView",
            "description_width": ""
          }
        },
        "81b73a92821540f19beb4687cb58e77c": {
          "model_module": "@jupyter-widgets/controls",
          "model_module_version": "1.5.0",
          "model_name": "DescriptionStyleModel",
          "state": {
            "_model_module": "@jupyter-widgets/controls",
            "_model_module_version": "1.5.0",
            "_model_name": "DescriptionStyleModel",
            "_view_count": null,
            "_view_module": "@jupyter-widgets/base",
            "_view_module_version": "1.2.0",
            "_view_name": "StyleView",
            "description_width": ""
          }
        },
        "89d88f50f1fc4fde8da47b67924aad32": {
          "model_module": "@jupyter-widgets/controls",
          "model_module_version": "1.5.0",
          "model_name": "HTMLModel",
          "state": {
            "_dom_classes": [],
            "_model_module": "@jupyter-widgets/controls",
            "_model_module_version": "1.5.0",
            "_model_name": "HTMLModel",
            "_view_count": null,
            "_view_module": "@jupyter-widgets/controls",
            "_view_module_version": "1.5.0",
            "_view_name": "HTMLView",
            "description": "",
            "description_tooltip": null,
            "layout": "IPY_MODEL_6a8065b462874dff971f11cdebc9f76c",
            "placeholder": "​",
            "style": "IPY_MODEL_aab0bb613b00470180b758fd26f4f092",
            "value": "config.json: 100%"
          }
        },
        "8bdc50241eb84faaa4c8da8d67424461": {
          "model_module": "@jupyter-widgets/controls",
          "model_module_version": "1.5.0",
          "model_name": "DescriptionStyleModel",
          "state": {
            "_model_module": "@jupyter-widgets/controls",
            "_model_module_version": "1.5.0",
            "_model_name": "DescriptionStyleModel",
            "_view_count": null,
            "_view_module": "@jupyter-widgets/base",
            "_view_module_version": "1.2.0",
            "_view_name": "StyleView",
            "description_width": ""
          }
        },
        "9325e492b2074d00a86a55805ed7baf3": {
          "model_module": "@jupyter-widgets/base",
          "model_module_version": "1.2.0",
          "model_name": "LayoutModel",
          "state": {
            "_model_module": "@jupyter-widgets/base",
            "_model_module_version": "1.2.0",
            "_model_name": "LayoutModel",
            "_view_count": null,
            "_view_module": "@jupyter-widgets/base",
            "_view_module_version": "1.2.0",
            "_view_name": "LayoutView",
            "align_content": null,
            "align_items": null,
            "align_self": null,
            "border": null,
            "bottom": null,
            "display": null,
            "flex": null,
            "flex_flow": null,
            "grid_area": null,
            "grid_auto_columns": null,
            "grid_auto_flow": null,
            "grid_auto_rows": null,
            "grid_column": null,
            "grid_gap": null,
            "grid_row": null,
            "grid_template_areas": null,
            "grid_template_columns": null,
            "grid_template_rows": null,
            "height": null,
            "justify_content": null,
            "justify_items": null,
            "left": null,
            "margin": null,
            "max_height": null,
            "max_width": null,
            "min_height": null,
            "min_width": null,
            "object_fit": null,
            "object_position": null,
            "order": null,
            "overflow": null,
            "overflow_x": null,
            "overflow_y": null,
            "padding": null,
            "right": null,
            "top": null,
            "visibility": null,
            "width": null
          }
        },
        "94832b68a5564dbdac5df5f825956c2e": {
          "model_module": "@jupyter-widgets/controls",
          "model_module_version": "1.5.0",
          "model_name": "DescriptionStyleModel",
          "state": {
            "_model_module": "@jupyter-widgets/controls",
            "_model_module_version": "1.5.0",
            "_model_name": "DescriptionStyleModel",
            "_view_count": null,
            "_view_module": "@jupyter-widgets/base",
            "_view_module_version": "1.2.0",
            "_view_name": "StyleView",
            "description_width": ""
          }
        },
        "9edb3b6daa6f4993a60dba35ba4e5b7a": {
          "model_module": "@jupyter-widgets/base",
          "model_module_version": "1.2.0",
          "model_name": "LayoutModel",
          "state": {
            "_model_module": "@jupyter-widgets/base",
            "_model_module_version": "1.2.0",
            "_model_name": "LayoutModel",
            "_view_count": null,
            "_view_module": "@jupyter-widgets/base",
            "_view_module_version": "1.2.0",
            "_view_name": "LayoutView",
            "align_content": null,
            "align_items": null,
            "align_self": null,
            "border": null,
            "bottom": null,
            "display": null,
            "flex": null,
            "flex_flow": null,
            "grid_area": null,
            "grid_auto_columns": null,
            "grid_auto_flow": null,
            "grid_auto_rows": null,
            "grid_column": null,
            "grid_gap": null,
            "grid_row": null,
            "grid_template_areas": null,
            "grid_template_columns": null,
            "grid_template_rows": null,
            "height": null,
            "justify_content": null,
            "justify_items": null,
            "left": null,
            "margin": null,
            "max_height": null,
            "max_width": null,
            "min_height": null,
            "min_width": null,
            "object_fit": null,
            "object_position": null,
            "order": null,
            "overflow": null,
            "overflow_x": null,
            "overflow_y": null,
            "padding": null,
            "right": null,
            "top": null,
            "visibility": null,
            "width": null
          }
        },
        "a2d5a89d389e445eb8c5500f80ae1259": {
          "model_module": "@jupyter-widgets/base",
          "model_module_version": "1.2.0",
          "model_name": "LayoutModel",
          "state": {
            "_model_module": "@jupyter-widgets/base",
            "_model_module_version": "1.2.0",
            "_model_name": "LayoutModel",
            "_view_count": null,
            "_view_module": "@jupyter-widgets/base",
            "_view_module_version": "1.2.0",
            "_view_name": "LayoutView",
            "align_content": null,
            "align_items": null,
            "align_self": null,
            "border": null,
            "bottom": null,
            "display": null,
            "flex": null,
            "flex_flow": null,
            "grid_area": null,
            "grid_auto_columns": null,
            "grid_auto_flow": null,
            "grid_auto_rows": null,
            "grid_column": null,
            "grid_gap": null,
            "grid_row": null,
            "grid_template_areas": null,
            "grid_template_columns": null,
            "grid_template_rows": null,
            "height": null,
            "justify_content": null,
            "justify_items": null,
            "left": null,
            "margin": null,
            "max_height": null,
            "max_width": null,
            "min_height": null,
            "min_width": null,
            "object_fit": null,
            "object_position": null,
            "order": null,
            "overflow": null,
            "overflow_x": null,
            "overflow_y": null,
            "padding": null,
            "right": null,
            "top": null,
            "visibility": null,
            "width": null
          }
        },
        "a77cf078e91340ef86741c90c3c07d0a": {
          "model_module": "@jupyter-widgets/controls",
          "model_module_version": "1.5.0",
          "model_name": "DescriptionStyleModel",
          "state": {
            "_model_module": "@jupyter-widgets/controls",
            "_model_module_version": "1.5.0",
            "_model_name": "DescriptionStyleModel",
            "_view_count": null,
            "_view_module": "@jupyter-widgets/base",
            "_view_module_version": "1.2.0",
            "_view_name": "StyleView",
            "description_width": ""
          }
        },
        "aab0bb613b00470180b758fd26f4f092": {
          "model_module": "@jupyter-widgets/controls",
          "model_module_version": "1.5.0",
          "model_name": "DescriptionStyleModel",
          "state": {
            "_model_module": "@jupyter-widgets/controls",
            "_model_module_version": "1.5.0",
            "_model_name": "DescriptionStyleModel",
            "_view_count": null,
            "_view_module": "@jupyter-widgets/base",
            "_view_module_version": "1.2.0",
            "_view_name": "StyleView",
            "description_width": ""
          }
        },
        "ace520050403489399e22fd2fafec4af": {
          "model_module": "@jupyter-widgets/base",
          "model_module_version": "1.2.0",
          "model_name": "LayoutModel",
          "state": {
            "_model_module": "@jupyter-widgets/base",
            "_model_module_version": "1.2.0",
            "_model_name": "LayoutModel",
            "_view_count": null,
            "_view_module": "@jupyter-widgets/base",
            "_view_module_version": "1.2.0",
            "_view_name": "LayoutView",
            "align_content": null,
            "align_items": null,
            "align_self": null,
            "border": null,
            "bottom": null,
            "display": null,
            "flex": null,
            "flex_flow": null,
            "grid_area": null,
            "grid_auto_columns": null,
            "grid_auto_flow": null,
            "grid_auto_rows": null,
            "grid_column": null,
            "grid_gap": null,
            "grid_row": null,
            "grid_template_areas": null,
            "grid_template_columns": null,
            "grid_template_rows": null,
            "height": null,
            "justify_content": null,
            "justify_items": null,
            "left": null,
            "margin": null,
            "max_height": null,
            "max_width": null,
            "min_height": null,
            "min_width": null,
            "object_fit": null,
            "object_position": null,
            "order": null,
            "overflow": null,
            "overflow_x": null,
            "overflow_y": null,
            "padding": null,
            "right": null,
            "top": null,
            "visibility": null,
            "width": null
          }
        },
        "af7d9e8da76642d88e6996590ddcfc71": {
          "model_module": "@jupyter-widgets/controls",
          "model_module_version": "1.5.0",
          "model_name": "FloatProgressModel",
          "state": {
            "_dom_classes": [],
            "_model_module": "@jupyter-widgets/controls",
            "_model_module_version": "1.5.0",
            "_model_name": "FloatProgressModel",
            "_view_count": null,
            "_view_module": "@jupyter-widgets/controls",
            "_view_module_version": "1.5.0",
            "_view_name": "ProgressView",
            "bar_style": "success",
            "description": "",
            "description_tooltip": null,
            "layout": "IPY_MODEL_4ab803dd96df43158c7794441ddb8867",
            "max": 48,
            "min": 0,
            "orientation": "horizontal",
            "style": "IPY_MODEL_4ff93480c8fd445595159b3644b84b9a",
            "value": 48
          }
        },
        "b6ddabd397ba439895c2a8f44a1272cf": {
          "model_module": "@jupyter-widgets/base",
          "model_module_version": "1.2.0",
          "model_name": "LayoutModel",
          "state": {
            "_model_module": "@jupyter-widgets/base",
            "_model_module_version": "1.2.0",
            "_model_name": "LayoutModel",
            "_view_count": null,
            "_view_module": "@jupyter-widgets/base",
            "_view_module_version": "1.2.0",
            "_view_name": "LayoutView",
            "align_content": null,
            "align_items": null,
            "align_self": null,
            "border": null,
            "bottom": null,
            "display": null,
            "flex": null,
            "flex_flow": null,
            "grid_area": null,
            "grid_auto_columns": null,
            "grid_auto_flow": null,
            "grid_auto_rows": null,
            "grid_column": null,
            "grid_gap": null,
            "grid_row": null,
            "grid_template_areas": null,
            "grid_template_columns": null,
            "grid_template_rows": null,
            "height": null,
            "justify_content": null,
            "justify_items": null,
            "left": null,
            "margin": null,
            "max_height": null,
            "max_width": null,
            "min_height": null,
            "min_width": null,
            "object_fit": null,
            "object_position": null,
            "order": null,
            "overflow": null,
            "overflow_x": null,
            "overflow_y": null,
            "padding": null,
            "right": null,
            "top": null,
            "visibility": null,
            "width": null
          }
        },
        "b9cc60b422e64cfcb4875622f7d65e5c": {
          "model_module": "@jupyter-widgets/base",
          "model_module_version": "1.2.0",
          "model_name": "LayoutModel",
          "state": {
            "_model_module": "@jupyter-widgets/base",
            "_model_module_version": "1.2.0",
            "_model_name": "LayoutModel",
            "_view_count": null,
            "_view_module": "@jupyter-widgets/base",
            "_view_module_version": "1.2.0",
            "_view_name": "LayoutView",
            "align_content": null,
            "align_items": null,
            "align_self": null,
            "border": null,
            "bottom": null,
            "display": null,
            "flex": null,
            "flex_flow": null,
            "grid_area": null,
            "grid_auto_columns": null,
            "grid_auto_flow": null,
            "grid_auto_rows": null,
            "grid_column": null,
            "grid_gap": null,
            "grid_row": null,
            "grid_template_areas": null,
            "grid_template_columns": null,
            "grid_template_rows": null,
            "height": null,
            "justify_content": null,
            "justify_items": null,
            "left": null,
            "margin": null,
            "max_height": null,
            "max_width": null,
            "min_height": null,
            "min_width": null,
            "object_fit": null,
            "object_position": null,
            "order": null,
            "overflow": null,
            "overflow_x": null,
            "overflow_y": null,
            "padding": null,
            "right": null,
            "top": null,
            "visibility": null,
            "width": null
          }
        },
        "baf0a03a9ce94deba0a5197638f2a709": {
          "model_module": "@jupyter-widgets/base",
          "model_module_version": "1.2.0",
          "model_name": "LayoutModel",
          "state": {
            "_model_module": "@jupyter-widgets/base",
            "_model_module_version": "1.2.0",
            "_model_name": "LayoutModel",
            "_view_count": null,
            "_view_module": "@jupyter-widgets/base",
            "_view_module_version": "1.2.0",
            "_view_name": "LayoutView",
            "align_content": null,
            "align_items": null,
            "align_self": null,
            "border": null,
            "bottom": null,
            "display": null,
            "flex": null,
            "flex_flow": null,
            "grid_area": null,
            "grid_auto_columns": null,
            "grid_auto_flow": null,
            "grid_auto_rows": null,
            "grid_column": null,
            "grid_gap": null,
            "grid_row": null,
            "grid_template_areas": null,
            "grid_template_columns": null,
            "grid_template_rows": null,
            "height": null,
            "justify_content": null,
            "justify_items": null,
            "left": null,
            "margin": null,
            "max_height": null,
            "max_width": null,
            "min_height": null,
            "min_width": null,
            "object_fit": null,
            "object_position": null,
            "order": null,
            "overflow": null,
            "overflow_x": null,
            "overflow_y": null,
            "padding": null,
            "right": null,
            "top": null,
            "visibility": null,
            "width": null
          }
        },
        "c3d1dd1dc7fc41f5a63109315510638f": {
          "model_module": "@jupyter-widgets/controls",
          "model_module_version": "1.5.0",
          "model_name": "FloatProgressModel",
          "state": {
            "_dom_classes": [],
            "_model_module": "@jupyter-widgets/controls",
            "_model_module_version": "1.5.0",
            "_model_name": "FloatProgressModel",
            "_view_count": null,
            "_view_module": "@jupyter-widgets/controls",
            "_view_module_version": "1.5.0",
            "_view_name": "ProgressView",
            "bar_style": "success",
            "description": "",
            "description_tooltip": null,
            "layout": "IPY_MODEL_b6ddabd397ba439895c2a8f44a1272cf",
            "max": 231508,
            "min": 0,
            "orientation": "horizontal",
            "style": "IPY_MODEL_c6bcbd747dc741c893fddc0e04bcf428",
            "value": 231508
          }
        },
        "c6bcbd747dc741c893fddc0e04bcf428": {
          "model_module": "@jupyter-widgets/controls",
          "model_module_version": "1.5.0",
          "model_name": "ProgressStyleModel",
          "state": {
            "_model_module": "@jupyter-widgets/controls",
            "_model_module_version": "1.5.0",
            "_model_name": "ProgressStyleModel",
            "_view_count": null,
            "_view_module": "@jupyter-widgets/base",
            "_view_module_version": "1.2.0",
            "_view_name": "StyleView",
            "bar_color": null,
            "description_width": ""
          }
        },
        "c6ca4a9f364c4feb944625bb4335d7d5": {
          "model_module": "@jupyter-widgets/controls",
          "model_module_version": "1.5.0",
          "model_name": "HTMLModel",
          "state": {
            "_dom_classes": [],
            "_model_module": "@jupyter-widgets/controls",
            "_model_module_version": "1.5.0",
            "_model_name": "HTMLModel",
            "_view_count": null,
            "_view_module": "@jupyter-widgets/controls",
            "_view_module_version": "1.5.0",
            "_view_name": "HTMLView",
            "description": "",
            "description_tooltip": null,
            "layout": "IPY_MODEL_e21bd50a7f9e41fe836ffb425d897a6e",
            "placeholder": "​",
            "style": "IPY_MODEL_a77cf078e91340ef86741c90c3c07d0a",
            "value": " 232k/232k [00:00&lt;00:00, 4.59MB/s]"
          }
        },
        "c6dee85510d541a38eb509393766bcf4": {
          "model_module": "@jupyter-widgets/controls",
          "model_module_version": "1.5.0",
          "model_name": "HTMLModel",
          "state": {
            "_dom_classes": [],
            "_model_module": "@jupyter-widgets/controls",
            "_model_module_version": "1.5.0",
            "_model_name": "HTMLModel",
            "_view_count": null,
            "_view_module": "@jupyter-widgets/controls",
            "_view_module_version": "1.5.0",
            "_view_name": "HTMLView",
            "description": "",
            "description_tooltip": null,
            "layout": "IPY_MODEL_ee98023420394c7a940f42ca888c0784",
            "placeholder": "​",
            "style": "IPY_MODEL_6a80f70f696340708d779b92c18885ea",
            "value": " 570/570 [00:00&lt;00:00, 31.3kB/s]"
          }
        },
        "d725b0a2931d4768a89d87f0592a441d": {
          "model_module": "@jupyter-widgets/controls",
          "model_module_version": "1.5.0",
          "model_name": "HTMLModel",
          "state": {
            "_dom_classes": [],
            "_model_module": "@jupyter-widgets/controls",
            "_model_module_version": "1.5.0",
            "_model_name": "HTMLModel",
            "_view_count": null,
            "_view_module": "@jupyter-widgets/controls",
            "_view_module_version": "1.5.0",
            "_view_name": "HTMLView",
            "description": "",
            "description_tooltip": null,
            "layout": "IPY_MODEL_7d6b33fe99d64e3b9580b165abe00a86",
            "placeholder": "​",
            "style": "IPY_MODEL_81b73a92821540f19beb4687cb58e77c",
            "value": "tokenizer_config.json: 100%"
          }
        },
        "dc2698566bcc4e48b483fe8060ab7bad": {
          "model_module": "@jupyter-widgets/controls",
          "model_module_version": "1.5.0",
          "model_name": "HBoxModel",
          "state": {
            "_dom_classes": [],
            "_model_module": "@jupyter-widgets/controls",
            "_model_module_version": "1.5.0",
            "_model_name": "HBoxModel",
            "_view_count": null,
            "_view_module": "@jupyter-widgets/controls",
            "_view_module_version": "1.5.0",
            "_view_name": "HBoxView",
            "box_style": "",
            "children": [
              "IPY_MODEL_1fdab3be80b24099b41649148589b298",
              "IPY_MODEL_1c963a9b1d004453ab00a04464b63cb9",
              "IPY_MODEL_67a26a0a76394b6f876e6916d23505d7"
            ],
            "layout": "IPY_MODEL_9325e492b2074d00a86a55805ed7baf3"
          }
        },
        "e21bd50a7f9e41fe836ffb425d897a6e": {
          "model_module": "@jupyter-widgets/base",
          "model_module_version": "1.2.0",
          "model_name": "LayoutModel",
          "state": {
            "_model_module": "@jupyter-widgets/base",
            "_model_module_version": "1.2.0",
            "_model_name": "LayoutModel",
            "_view_count": null,
            "_view_module": "@jupyter-widgets/base",
            "_view_module_version": "1.2.0",
            "_view_name": "LayoutView",
            "align_content": null,
            "align_items": null,
            "align_self": null,
            "border": null,
            "bottom": null,
            "display": null,
            "flex": null,
            "flex_flow": null,
            "grid_area": null,
            "grid_auto_columns": null,
            "grid_auto_flow": null,
            "grid_auto_rows": null,
            "grid_column": null,
            "grid_gap": null,
            "grid_row": null,
            "grid_template_areas": null,
            "grid_template_columns": null,
            "grid_template_rows": null,
            "height": null,
            "justify_content": null,
            "justify_items": null,
            "left": null,
            "margin": null,
            "max_height": null,
            "max_width": null,
            "min_height": null,
            "min_width": null,
            "object_fit": null,
            "object_position": null,
            "order": null,
            "overflow": null,
            "overflow_x": null,
            "overflow_y": null,
            "padding": null,
            "right": null,
            "top": null,
            "visibility": null,
            "width": null
          }
        },
        "ec3f5ca598e04d3490555095221cc4bf": {
          "model_module": "@jupyter-widgets/controls",
          "model_module_version": "1.5.0",
          "model_name": "FloatProgressModel",
          "state": {
            "_dom_classes": [],
            "_model_module": "@jupyter-widgets/controls",
            "_model_module_version": "1.5.0",
            "_model_name": "FloatProgressModel",
            "_view_count": null,
            "_view_module": "@jupyter-widgets/controls",
            "_view_module_version": "1.5.0",
            "_view_name": "ProgressView",
            "bar_style": "success",
            "description": "",
            "description_tooltip": null,
            "layout": "IPY_MODEL_ace520050403489399e22fd2fafec4af",
            "max": 466062,
            "min": 0,
            "orientation": "horizontal",
            "style": "IPY_MODEL_f1c29c5cf4e3438dbe56456e649049e8",
            "value": 466062
          }
        },
        "ee98023420394c7a940f42ca888c0784": {
          "model_module": "@jupyter-widgets/base",
          "model_module_version": "1.2.0",
          "model_name": "LayoutModel",
          "state": {
            "_model_module": "@jupyter-widgets/base",
            "_model_module_version": "1.2.0",
            "_model_name": "LayoutModel",
            "_view_count": null,
            "_view_module": "@jupyter-widgets/base",
            "_view_module_version": "1.2.0",
            "_view_name": "LayoutView",
            "align_content": null,
            "align_items": null,
            "align_self": null,
            "border": null,
            "bottom": null,
            "display": null,
            "flex": null,
            "flex_flow": null,
            "grid_area": null,
            "grid_auto_columns": null,
            "grid_auto_flow": null,
            "grid_auto_rows": null,
            "grid_column": null,
            "grid_gap": null,
            "grid_row": null,
            "grid_template_areas": null,
            "grid_template_columns": null,
            "grid_template_rows": null,
            "height": null,
            "justify_content": null,
            "justify_items": null,
            "left": null,
            "margin": null,
            "max_height": null,
            "max_width": null,
            "min_height": null,
            "min_width": null,
            "object_fit": null,
            "object_position": null,
            "order": null,
            "overflow": null,
            "overflow_x": null,
            "overflow_y": null,
            "padding": null,
            "right": null,
            "top": null,
            "visibility": null,
            "width": null
          }
        },
        "f1c29c5cf4e3438dbe56456e649049e8": {
          "model_module": "@jupyter-widgets/controls",
          "model_module_version": "1.5.0",
          "model_name": "ProgressStyleModel",
          "state": {
            "_model_module": "@jupyter-widgets/controls",
            "_model_module_version": "1.5.0",
            "_model_name": "ProgressStyleModel",
            "_view_count": null,
            "_view_module": "@jupyter-widgets/base",
            "_view_module_version": "1.2.0",
            "_view_name": "StyleView",
            "bar_color": null,
            "description_width": ""
          }
        },
        "f93bd2072cb54bcb93289fab8d1fe660": {
          "model_module": "@jupyter-widgets/base",
          "model_module_version": "1.2.0",
          "model_name": "LayoutModel",
          "state": {
            "_model_module": "@jupyter-widgets/base",
            "_model_module_version": "1.2.0",
            "_model_name": "LayoutModel",
            "_view_count": null,
            "_view_module": "@jupyter-widgets/base",
            "_view_module_version": "1.2.0",
            "_view_name": "LayoutView",
            "align_content": null,
            "align_items": null,
            "align_self": null,
            "border": null,
            "bottom": null,
            "display": null,
            "flex": null,
            "flex_flow": null,
            "grid_area": null,
            "grid_auto_columns": null,
            "grid_auto_flow": null,
            "grid_auto_rows": null,
            "grid_column": null,
            "grid_gap": null,
            "grid_row": null,
            "grid_template_areas": null,
            "grid_template_columns": null,
            "grid_template_rows": null,
            "height": null,
            "justify_content": null,
            "justify_items": null,
            "left": null,
            "margin": null,
            "max_height": null,
            "max_width": null,
            "min_height": null,
            "min_width": null,
            "object_fit": null,
            "object_position": null,
            "order": null,
            "overflow": null,
            "overflow_x": null,
            "overflow_y": null,
            "padding": null,
            "right": null,
            "top": null,
            "visibility": null,
            "width": null
          }
        }
      }
    }
  },
  "nbformat": 4,
  "nbformat_minor": 0
}
